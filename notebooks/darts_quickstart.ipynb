{
 "cells": [
  {
   "cell_type": "code",
   "execution_count": 1,
   "id": "ef000198",
   "metadata": {},
   "outputs": [],
   "source": [
    "import pandas as pd\n",
    "import numpy as np\n",
    "import matplotlib.pyplot as plt\n",
    "from datetime import datetime\n",
    "from sklearn.preprocessing import MinMaxScaler\n",
    "from darts import TimeSeries\n",
    "freq='2H3T14S'"
   ]
  },
  {
   "cell_type": "code",
   "execution_count": 2,
   "id": "87659348",
   "metadata": {},
   "outputs": [],
   "source": [
    "def load_dataset(training_file, testing_file):\n",
    "    dataframes = []\n",
    "    for data_file in [training_file, testing_file]:\n",
    "        parser = lambda data_string: datetime.strptime(data_string, '%Y-%m-%d %H:%M:%S')\n",
    "#         dataframe = pd.read_csv(data_file)\n",
    "        dataframe = pd.read_csv(data_file, parse_dates=['Time'],\n",
    "                                date_parser=parser)\n",
    "        print(f\"Rows in {data_file}: {len(dataframe)}\")\n",
    "        dataframe.drop(['Ls', 'LT', 'CO2ice'], axis=1, inplace=True)\n",
    "#         dataframe.index.name = \"Time\"\n",
    "\n",
    "        # if data_file == training_file:\n",
    "        #     dataframe[TRAINING_FLAG_COLUMN] = True\n",
    "        # elif data_file == testing_file:\n",
    "        #     dataframe[TRAINING_FLAG_COLUMN] = False\n",
    "\n",
    "        dataframes.append(dataframe)\n",
    "\n",
    "    return pd.concat(dataframes, axis=0)"
   ]
  },
  {
   "cell_type": "code",
   "execution_count": 3,
   "id": "865b5596",
   "metadata": {},
   "outputs": [
    {
     "name": "stdout",
     "output_type": "stream",
     "text": [
      "Rows in ../data/data_files/insight_openmars_training_time.csv: 72196\n",
      "Rows in ../data/data_files/insight_openmars_test_time.csv: 16364\n"
     ]
    },
    {
     "data": {
      "text/html": [
       "<div>\n",
       "<style scoped>\n",
       "    .dataframe tbody tr th:only-of-type {\n",
       "        vertical-align: middle;\n",
       "    }\n",
       "\n",
       "    .dataframe tbody tr th {\n",
       "        vertical-align: top;\n",
       "    }\n",
       "\n",
       "    .dataframe thead th {\n",
       "        text-align: right;\n",
       "    }\n",
       "</style>\n",
       "<table border=\"1\" class=\"dataframe\">\n",
       "  <thead>\n",
       "    <tr style=\"text-align: right;\">\n",
       "      <th></th>\n",
       "      <th>Time</th>\n",
       "      <th>Tsurf</th>\n",
       "      <th>Psurf</th>\n",
       "      <th>cloud</th>\n",
       "      <th>vapour</th>\n",
       "      <th>u_wind</th>\n",
       "      <th>v_wind</th>\n",
       "      <th>dust</th>\n",
       "      <th>temp</th>\n",
       "    </tr>\n",
       "  </thead>\n",
       "  <tbody>\n",
       "    <tr>\n",
       "      <th>0</th>\n",
       "      <td>1998-07-15 21:23:39</td>\n",
       "      <td>264.042</td>\n",
       "      <td>721.113</td>\n",
       "      <td>0.092</td>\n",
       "      <td>0.027</td>\n",
       "      <td>-7.451</td>\n",
       "      <td>8.604</td>\n",
       "      <td>0.428</td>\n",
       "      <td>179.686</td>\n",
       "    </tr>\n",
       "    <tr>\n",
       "      <th>1</th>\n",
       "      <td>1998-07-15 23:26:53</td>\n",
       "      <td>274.736</td>\n",
       "      <td>705.090</td>\n",
       "      <td>0.145</td>\n",
       "      <td>0.026</td>\n",
       "      <td>-7.053</td>\n",
       "      <td>4.934</td>\n",
       "      <td>0.427</td>\n",
       "      <td>174.502</td>\n",
       "    </tr>\n",
       "    <tr>\n",
       "      <th>2</th>\n",
       "      <td>1998-07-16 01:30:07</td>\n",
       "      <td>265.939</td>\n",
       "      <td>700.691</td>\n",
       "      <td>0.105</td>\n",
       "      <td>0.026</td>\n",
       "      <td>-6.825</td>\n",
       "      <td>-0.063</td>\n",
       "      <td>0.427</td>\n",
       "      <td>173.429</td>\n",
       "    </tr>\n",
       "    <tr>\n",
       "      <th>3</th>\n",
       "      <td>1998-07-16 03:33:21</td>\n",
       "      <td>238.624</td>\n",
       "      <td>697.252</td>\n",
       "      <td>0.134</td>\n",
       "      <td>0.025</td>\n",
       "      <td>-5.373</td>\n",
       "      <td>-4.048</td>\n",
       "      <td>0.426</td>\n",
       "      <td>173.556</td>\n",
       "    </tr>\n",
       "    <tr>\n",
       "      <th>4</th>\n",
       "      <td>1998-07-16 05:36:35</td>\n",
       "      <td>213.634</td>\n",
       "      <td>717.146</td>\n",
       "      <td>0.139</td>\n",
       "      <td>0.026</td>\n",
       "      <td>-3.899</td>\n",
       "      <td>-3.133</td>\n",
       "      <td>0.426</td>\n",
       "      <td>174.789</td>\n",
       "    </tr>\n",
       "  </tbody>\n",
       "</table>\n",
       "</div>"
      ],
      "text/plain": [
       "                 Time    Tsurf    Psurf  cloud  vapour  u_wind  v_wind   dust  \\\n",
       "0 1998-07-15 21:23:39  264.042  721.113  0.092   0.027  -7.451   8.604  0.428   \n",
       "1 1998-07-15 23:26:53  274.736  705.090  0.145   0.026  -7.053   4.934  0.427   \n",
       "2 1998-07-16 01:30:07  265.939  700.691  0.105   0.026  -6.825  -0.063  0.427   \n",
       "3 1998-07-16 03:33:21  238.624  697.252  0.134   0.025  -5.373  -4.048  0.426   \n",
       "4 1998-07-16 05:36:35  213.634  717.146  0.139   0.026  -3.899  -3.133  0.426   \n",
       "\n",
       "      temp  \n",
       "0  179.686  \n",
       "1  174.502  \n",
       "2  173.429  \n",
       "3  173.556  \n",
       "4  174.789  "
      ]
     },
     "execution_count": 3,
     "metadata": {},
     "output_type": "execute_result"
    }
   ],
   "source": [
    "dataframe = load_dataset('../data/data_files/insight_openmars_training_time.csv',\n",
    "                         '../data/data_files/insight_openmars_test_time.csv')\n",
    "dataframe.head()"
   ]
  },
  {
   "cell_type": "code",
   "execution_count": 4,
   "id": "9aa6b9ed",
   "metadata": {},
   "outputs": [
    {
     "data": {
      "text/html": [
       "<div>\n",
       "<style scoped>\n",
       "    .dataframe tbody tr th:only-of-type {\n",
       "        vertical-align: middle;\n",
       "    }\n",
       "\n",
       "    .dataframe tbody tr th {\n",
       "        vertical-align: top;\n",
       "    }\n",
       "\n",
       "    .dataframe thead th {\n",
       "        text-align: right;\n",
       "    }\n",
       "</style>\n",
       "<table border=\"1\" class=\"dataframe\">\n",
       "  <thead>\n",
       "    <tr style=\"text-align: right;\">\n",
       "      <th></th>\n",
       "      <th>Time</th>\n",
       "      <th>Tsurf</th>\n",
       "      <th>Psurf</th>\n",
       "      <th>cloud</th>\n",
       "      <th>vapour</th>\n",
       "      <th>u_wind</th>\n",
       "      <th>v_wind</th>\n",
       "      <th>dust</th>\n",
       "      <th>temp</th>\n",
       "    </tr>\n",
       "  </thead>\n",
       "  <tbody>\n",
       "    <tr>\n",
       "      <th>0</th>\n",
       "      <td>1998-07-15 21:23:39</td>\n",
       "      <td>264.042</td>\n",
       "      <td>721.113</td>\n",
       "      <td>0.092</td>\n",
       "      <td>0.027</td>\n",
       "      <td>-7.451</td>\n",
       "      <td>8.604</td>\n",
       "      <td>0.428</td>\n",
       "      <td>179.686</td>\n",
       "    </tr>\n",
       "    <tr>\n",
       "      <th>1</th>\n",
       "      <td>1998-07-15 23:26:53</td>\n",
       "      <td>274.736</td>\n",
       "      <td>705.090</td>\n",
       "      <td>0.145</td>\n",
       "      <td>0.026</td>\n",
       "      <td>-7.053</td>\n",
       "      <td>4.934</td>\n",
       "      <td>0.427</td>\n",
       "      <td>174.502</td>\n",
       "    </tr>\n",
       "    <tr>\n",
       "      <th>2</th>\n",
       "      <td>1998-07-16 01:30:07</td>\n",
       "      <td>265.939</td>\n",
       "      <td>700.691</td>\n",
       "      <td>0.105</td>\n",
       "      <td>0.026</td>\n",
       "      <td>-6.825</td>\n",
       "      <td>-0.063</td>\n",
       "      <td>0.427</td>\n",
       "      <td>173.429</td>\n",
       "    </tr>\n",
       "    <tr>\n",
       "      <th>3</th>\n",
       "      <td>1998-07-16 03:33:21</td>\n",
       "      <td>238.624</td>\n",
       "      <td>697.252</td>\n",
       "      <td>0.134</td>\n",
       "      <td>0.025</td>\n",
       "      <td>-5.373</td>\n",
       "      <td>-4.048</td>\n",
       "      <td>0.426</td>\n",
       "      <td>173.556</td>\n",
       "    </tr>\n",
       "    <tr>\n",
       "      <th>4</th>\n",
       "      <td>1998-07-16 05:36:35</td>\n",
       "      <td>213.634</td>\n",
       "      <td>717.146</td>\n",
       "      <td>0.139</td>\n",
       "      <td>0.026</td>\n",
       "      <td>-3.899</td>\n",
       "      <td>-3.133</td>\n",
       "      <td>0.426</td>\n",
       "      <td>174.789</td>\n",
       "    </tr>\n",
       "  </tbody>\n",
       "</table>\n",
       "</div>"
      ],
      "text/plain": [
       "                 Time    Tsurf    Psurf  cloud  vapour  u_wind  v_wind   dust  \\\n",
       "0 1998-07-15 21:23:39  264.042  721.113  0.092   0.027  -7.451   8.604  0.428   \n",
       "1 1998-07-15 23:26:53  274.736  705.090  0.145   0.026  -7.053   4.934  0.427   \n",
       "2 1998-07-16 01:30:07  265.939  700.691  0.105   0.026  -6.825  -0.063  0.427   \n",
       "3 1998-07-16 03:33:21  238.624  697.252  0.134   0.025  -5.373  -4.048  0.426   \n",
       "4 1998-07-16 05:36:35  213.634  717.146  0.139   0.026  -3.899  -3.133  0.426   \n",
       "\n",
       "      temp  \n",
       "0  179.686  \n",
       "1  174.502  \n",
       "2  173.429  \n",
       "3  173.556  \n",
       "4  174.789  "
      ]
     },
     "execution_count": 4,
     "metadata": {},
     "output_type": "execute_result"
    }
   ],
   "source": [
    "dataframe.head()"
   ]
  },
  {
   "cell_type": "code",
   "execution_count": 5,
   "id": "db779ab5",
   "metadata": {},
   "outputs": [
    {
     "data": {
      "text/html": [
       "<div>\n",
       "<style scoped>\n",
       "    .dataframe tbody tr th:only-of-type {\n",
       "        vertical-align: middle;\n",
       "    }\n",
       "\n",
       "    .dataframe tbody tr th {\n",
       "        vertical-align: top;\n",
       "    }\n",
       "\n",
       "    .dataframe thead th {\n",
       "        text-align: right;\n",
       "    }\n",
       "</style>\n",
       "<table border=\"1\" class=\"dataframe\">\n",
       "  <thead>\n",
       "    <tr style=\"text-align: right;\">\n",
       "      <th></th>\n",
       "      <th>Tsurf</th>\n",
       "      <th>Psurf</th>\n",
       "      <th>cloud</th>\n",
       "      <th>vapour</th>\n",
       "      <th>u_wind</th>\n",
       "      <th>v_wind</th>\n",
       "      <th>dust</th>\n",
       "      <th>temp</th>\n",
       "    </tr>\n",
       "    <tr>\n",
       "      <th>Time</th>\n",
       "      <th></th>\n",
       "      <th></th>\n",
       "      <th></th>\n",
       "      <th></th>\n",
       "      <th></th>\n",
       "      <th></th>\n",
       "      <th></th>\n",
       "      <th></th>\n",
       "    </tr>\n",
       "  </thead>\n",
       "  <tbody>\n",
       "    <tr>\n",
       "      <th>1998-07-15 21:23:39</th>\n",
       "      <td>264.042</td>\n",
       "      <td>721.113</td>\n",
       "      <td>0.092</td>\n",
       "      <td>0.027</td>\n",
       "      <td>-7.451</td>\n",
       "      <td>8.604</td>\n",
       "      <td>0.428</td>\n",
       "      <td>179.686</td>\n",
       "    </tr>\n",
       "    <tr>\n",
       "      <th>1998-07-15 23:26:53</th>\n",
       "      <td>274.736</td>\n",
       "      <td>705.090</td>\n",
       "      <td>0.145</td>\n",
       "      <td>0.026</td>\n",
       "      <td>-7.053</td>\n",
       "      <td>4.934</td>\n",
       "      <td>0.427</td>\n",
       "      <td>174.502</td>\n",
       "    </tr>\n",
       "    <tr>\n",
       "      <th>1998-07-16 01:30:07</th>\n",
       "      <td>265.939</td>\n",
       "      <td>700.691</td>\n",
       "      <td>0.105</td>\n",
       "      <td>0.026</td>\n",
       "      <td>-6.825</td>\n",
       "      <td>-0.063</td>\n",
       "      <td>0.427</td>\n",
       "      <td>173.429</td>\n",
       "    </tr>\n",
       "    <tr>\n",
       "      <th>1998-07-16 03:33:21</th>\n",
       "      <td>238.624</td>\n",
       "      <td>697.252</td>\n",
       "      <td>0.134</td>\n",
       "      <td>0.025</td>\n",
       "      <td>-5.373</td>\n",
       "      <td>-4.048</td>\n",
       "      <td>0.426</td>\n",
       "      <td>173.556</td>\n",
       "    </tr>\n",
       "    <tr>\n",
       "      <th>1998-07-16 05:36:35</th>\n",
       "      <td>213.634</td>\n",
       "      <td>717.146</td>\n",
       "      <td>0.139</td>\n",
       "      <td>0.026</td>\n",
       "      <td>-3.899</td>\n",
       "      <td>-3.133</td>\n",
       "      <td>0.426</td>\n",
       "      <td>174.789</td>\n",
       "    </tr>\n",
       "    <tr>\n",
       "      <th>...</th>\n",
       "      <td>...</td>\n",
       "      <td>...</td>\n",
       "      <td>...</td>\n",
       "      <td>...</td>\n",
       "      <td>...</td>\n",
       "      <td>...</td>\n",
       "      <td>...</td>\n",
       "      <td>...</td>\n",
       "    </tr>\n",
       "    <tr>\n",
       "      <th>2019-04-19 08:03:34</th>\n",
       "      <td>191.494</td>\n",
       "      <td>747.400</td>\n",
       "      <td>0.000</td>\n",
       "      <td>0.013</td>\n",
       "      <td>0.590</td>\n",
       "      <td>2.064</td>\n",
       "      <td>0.212</td>\n",
       "      <td>190.094</td>\n",
       "    </tr>\n",
       "    <tr>\n",
       "      <th>2019-04-19 10:06:49</th>\n",
       "      <td>188.217</td>\n",
       "      <td>747.954</td>\n",
       "      <td>0.000</td>\n",
       "      <td>0.013</td>\n",
       "      <td>0.234</td>\n",
       "      <td>3.252</td>\n",
       "      <td>0.227</td>\n",
       "      <td>194.156</td>\n",
       "    </tr>\n",
       "    <tr>\n",
       "      <th>2019-04-19 12:10:03</th>\n",
       "      <td>185.483</td>\n",
       "      <td>746.445</td>\n",
       "      <td>0.003</td>\n",
       "      <td>0.013</td>\n",
       "      <td>0.425</td>\n",
       "      <td>3.746</td>\n",
       "      <td>0.231</td>\n",
       "      <td>194.964</td>\n",
       "    </tr>\n",
       "    <tr>\n",
       "      <th>2019-04-19 14:13:18</th>\n",
       "      <td>194.636</td>\n",
       "      <td>755.561</td>\n",
       "      <td>0.009</td>\n",
       "      <td>0.013</td>\n",
       "      <td>0.925</td>\n",
       "      <td>4.993</td>\n",
       "      <td>0.231</td>\n",
       "      <td>194.270</td>\n",
       "    </tr>\n",
       "    <tr>\n",
       "      <th>2019-04-19 16:16:32</th>\n",
       "      <td>233.300</td>\n",
       "      <td>744.278</td>\n",
       "      <td>0.054</td>\n",
       "      <td>0.012</td>\n",
       "      <td>-0.145</td>\n",
       "      <td>12.167</td>\n",
       "      <td>0.231</td>\n",
       "      <td>189.971</td>\n",
       "    </tr>\n",
       "  </tbody>\n",
       "</table>\n",
       "<p>88560 rows × 8 columns</p>\n",
       "</div>"
      ],
      "text/plain": [
       "                       Tsurf    Psurf  cloud  vapour  u_wind  v_wind   dust  \\\n",
       "Time                                                                          \n",
       "1998-07-15 21:23:39  264.042  721.113  0.092   0.027  -7.451   8.604  0.428   \n",
       "1998-07-15 23:26:53  274.736  705.090  0.145   0.026  -7.053   4.934  0.427   \n",
       "1998-07-16 01:30:07  265.939  700.691  0.105   0.026  -6.825  -0.063  0.427   \n",
       "1998-07-16 03:33:21  238.624  697.252  0.134   0.025  -5.373  -4.048  0.426   \n",
       "1998-07-16 05:36:35  213.634  717.146  0.139   0.026  -3.899  -3.133  0.426   \n",
       "...                      ...      ...    ...     ...     ...     ...    ...   \n",
       "2019-04-19 08:03:34  191.494  747.400  0.000   0.013   0.590   2.064  0.212   \n",
       "2019-04-19 10:06:49  188.217  747.954  0.000   0.013   0.234   3.252  0.227   \n",
       "2019-04-19 12:10:03  185.483  746.445  0.003   0.013   0.425   3.746  0.231   \n",
       "2019-04-19 14:13:18  194.636  755.561  0.009   0.013   0.925   4.993  0.231   \n",
       "2019-04-19 16:16:32  233.300  744.278  0.054   0.012  -0.145  12.167  0.231   \n",
       "\n",
       "                        temp  \n",
       "Time                          \n",
       "1998-07-15 21:23:39  179.686  \n",
       "1998-07-15 23:26:53  174.502  \n",
       "1998-07-16 01:30:07  173.429  \n",
       "1998-07-16 03:33:21  173.556  \n",
       "1998-07-16 05:36:35  174.789  \n",
       "...                      ...  \n",
       "2019-04-19 08:03:34  190.094  \n",
       "2019-04-19 10:06:49  194.156  \n",
       "2019-04-19 12:10:03  194.964  \n",
       "2019-04-19 14:13:18  194.270  \n",
       "2019-04-19 16:16:32  189.971  \n",
       "\n",
       "[88560 rows x 8 columns]"
      ]
     },
     "execution_count": 5,
     "metadata": {},
     "output_type": "execute_result"
    }
   ],
   "source": [
    "df_time_indexed = dataframe.set_index('Time')\n",
    "df_time_indexed"
   ]
  },
  {
   "cell_type": "code",
   "execution_count": 6,
   "id": "3c82c859",
   "metadata": {},
   "outputs": [
    {
     "data": {
      "image/png": "[encoded data removed]",
      "text/plain": [
       "<Figure size 432x288 with 7 Axes>"
      ]
     },
     "metadata": {
      "needs_background": "light"
     },
     "output_type": "display_data"
    }
   ],
   "source": [
    "values = df_time_indexed.values\n",
    "# specify columns to plot\n",
    "groups = [0, 1, 2, 3, 5, 6, 7]\n",
    "i = 1\n",
    "# plot each column\n",
    "plt.figure()\n",
    "for group in groups:\n",
    "\tplt.subplot(len(groups), 1, i)\n",
    "\tplt.plot(values[:, group])\n",
    "\tplt.title(df_time_indexed.columns[group], y=0.5, loc='right')\n",
    "\ti += 1\n",
    "plt.show()"
   ]
  },
  {
   "cell_type": "code",
   "execution_count": 7,
   "id": "c97503cc",
   "metadata": {},
   "outputs": [
    {
     "data": {
      "text/plain": [
       "DatetimeIndex(['1998-07-15 21:23:39', '1998-07-15 23:26:53',\n",
       "               '1998-07-16 01:30:07', '1998-07-16 03:33:21',\n",
       "               '1998-07-16 05:36:35', '1998-07-16 07:39:49',\n",
       "               '1998-07-16 09:43:03', '1998-07-16 11:46:17',\n",
       "               '1998-07-16 13:49:31', '1998-07-16 15:52:45',\n",
       "               ...\n",
       "               '2019-04-14 21:15:19', '2019-04-14 23:18:33',\n",
       "               '2019-04-15 01:21:47', '2019-04-15 03:25:01',\n",
       "               '2019-04-15 05:28:15', '2019-04-15 07:31:29',\n",
       "               '2019-04-15 09:34:43', '2019-04-15 11:37:57',\n",
       "               '2019-04-15 13:41:11', '2019-04-15 15:44:25'],\n",
       "              dtype='datetime64[ns]', length=88560, freq='7394S')"
      ]
     },
     "execution_count": 7,
     "metadata": {},
     "output_type": "execute_result"
    }
   ],
   "source": [
    "# Calculating a custom datarange index as the frequencies in observed data are irregular\n",
    "time = pd.date_range(\"1998-07-15 21:23:39\", periods=len(dataframe), freq=freq)\n",
    "time"
   ]
  },
  {
   "cell_type": "code",
   "execution_count": 8,
   "id": "5f96a6f5",
   "metadata": {},
   "outputs": [
    {
     "data": {
      "text/html": [
       "<div>\n",
       "<style scoped>\n",
       "    .dataframe tbody tr th:only-of-type {\n",
       "        vertical-align: middle;\n",
       "    }\n",
       "\n",
       "    .dataframe tbody tr th {\n",
       "        vertical-align: top;\n",
       "    }\n",
       "\n",
       "    .dataframe thead th {\n",
       "        text-align: right;\n",
       "    }\n",
       "</style>\n",
       "<table border=\"1\" class=\"dataframe\">\n",
       "  <thead>\n",
       "    <tr style=\"text-align: right;\">\n",
       "      <th></th>\n",
       "      <th>Tsurf</th>\n",
       "      <th>Psurf</th>\n",
       "      <th>cloud</th>\n",
       "      <th>vapour</th>\n",
       "      <th>u_wind</th>\n",
       "      <th>v_wind</th>\n",
       "      <th>dust</th>\n",
       "      <th>temp</th>\n",
       "    </tr>\n",
       "  </thead>\n",
       "  <tbody>\n",
       "    <tr>\n",
       "      <th>1998-07-15 21:23:39</th>\n",
       "      <td>264.042</td>\n",
       "      <td>721.113</td>\n",
       "      <td>0.092</td>\n",
       "      <td>0.027</td>\n",
       "      <td>-7.451</td>\n",
       "      <td>8.604</td>\n",
       "      <td>0.428</td>\n",
       "      <td>179.686</td>\n",
       "    </tr>\n",
       "    <tr>\n",
       "      <th>1998-07-15 23:26:53</th>\n",
       "      <td>274.736</td>\n",
       "      <td>705.090</td>\n",
       "      <td>0.145</td>\n",
       "      <td>0.026</td>\n",
       "      <td>-7.053</td>\n",
       "      <td>4.934</td>\n",
       "      <td>0.427</td>\n",
       "      <td>174.502</td>\n",
       "    </tr>\n",
       "    <tr>\n",
       "      <th>1998-07-16 01:30:07</th>\n",
       "      <td>265.939</td>\n",
       "      <td>700.691</td>\n",
       "      <td>0.105</td>\n",
       "      <td>0.026</td>\n",
       "      <td>-6.825</td>\n",
       "      <td>-0.063</td>\n",
       "      <td>0.427</td>\n",
       "      <td>173.429</td>\n",
       "    </tr>\n",
       "    <tr>\n",
       "      <th>1998-07-16 03:33:21</th>\n",
       "      <td>238.624</td>\n",
       "      <td>697.252</td>\n",
       "      <td>0.134</td>\n",
       "      <td>0.025</td>\n",
       "      <td>-5.373</td>\n",
       "      <td>-4.048</td>\n",
       "      <td>0.426</td>\n",
       "      <td>173.556</td>\n",
       "    </tr>\n",
       "    <tr>\n",
       "      <th>1998-07-16 05:36:35</th>\n",
       "      <td>213.634</td>\n",
       "      <td>717.146</td>\n",
       "      <td>0.139</td>\n",
       "      <td>0.026</td>\n",
       "      <td>-3.899</td>\n",
       "      <td>-3.133</td>\n",
       "      <td>0.426</td>\n",
       "      <td>174.789</td>\n",
       "    </tr>\n",
       "  </tbody>\n",
       "</table>\n",
       "</div>"
      ],
      "text/plain": [
       "                       Tsurf    Psurf  cloud  vapour  u_wind  v_wind   dust  \\\n",
       "1998-07-15 21:23:39  264.042  721.113  0.092   0.027  -7.451   8.604  0.428   \n",
       "1998-07-15 23:26:53  274.736  705.090  0.145   0.026  -7.053   4.934  0.427   \n",
       "1998-07-16 01:30:07  265.939  700.691  0.105   0.026  -6.825  -0.063  0.427   \n",
       "1998-07-16 03:33:21  238.624  697.252  0.134   0.025  -5.373  -4.048  0.426   \n",
       "1998-07-16 05:36:35  213.634  717.146  0.139   0.026  -3.899  -3.133  0.426   \n",
       "\n",
       "                        temp  \n",
       "1998-07-15 21:23:39  179.686  \n",
       "1998-07-15 23:26:53  174.502  \n",
       "1998-07-16 01:30:07  173.429  \n",
       "1998-07-16 03:33:21  173.556  \n",
       "1998-07-16 05:36:35  174.789  "
      ]
     },
     "execution_count": 8,
     "metadata": {},
     "output_type": "execute_result"
    }
   ],
   "source": [
    "dataframe.index = time\n",
    "dataframe = dataframe.drop(['Time'], axis=1)\n",
    "dataframe.head()"
   ]
  },
  {
   "cell_type": "code",
   "execution_count": 9,
   "id": "31e6d35e",
   "metadata": {},
   "outputs": [],
   "source": [
    "series = TimeSeries.from_dataframe(dataframe, time_col=None, value_cols=None, fill_missing_dates=True, freq='7394S', fillna_value=None)"
   ]
  },
  {
   "cell_type": "code",
   "execution_count": 10,
   "id": "3bdec253",
   "metadata": {},
   "outputs": [
    {
     "ename": "AttributeError",
     "evalue": "'Series' object has no attribute 'columns'",
     "output_type": "error",
     "traceback": [
      "\u001b[0;31m---------------------------------------------------------------------------\u001b[0m",
      "\u001b[0;31mAttributeError\u001b[0m                            Traceback (most recent call last)",
      "Input \u001b[0;32mIn [10]\u001b[0m, in \u001b[0;36m<cell line: 1>\u001b[0;34m()\u001b[0m\n\u001b[0;32m----> 1\u001b[0m series_Psurf \u001b[38;5;241m=\u001b[39m \u001b[43mTimeSeries\u001b[49m\u001b[38;5;241;43m.\u001b[39;49m\u001b[43mfrom_dataframe\u001b[49m\u001b[43m(\u001b[49m\u001b[43mdataframe\u001b[49m\u001b[38;5;241;43m.\u001b[39;49m\u001b[43mPsurf\u001b[49m\u001b[43m,\u001b[49m\u001b[43m \u001b[49m\u001b[43mtime_col\u001b[49m\u001b[38;5;241;43m=\u001b[39;49m\u001b[38;5;28;43;01mNone\u001b[39;49;00m\u001b[43m,\u001b[49m\u001b[43m \u001b[49m\u001b[43mvalue_cols\u001b[49m\u001b[38;5;241;43m=\u001b[39;49m\u001b[38;5;28;43;01mNone\u001b[39;49;00m\u001b[43m,\u001b[49m\u001b[43m \u001b[49m\u001b[43mfill_missing_dates\u001b[49m\u001b[38;5;241;43m=\u001b[39;49m\u001b[38;5;28;43;01mTrue\u001b[39;49;00m\u001b[43m,\u001b[49m\u001b[43m \u001b[49m\u001b[43mfreq\u001b[49m\u001b[38;5;241;43m=\u001b[39;49m\u001b[38;5;124;43m'\u001b[39;49m\u001b[38;5;124;43m7394S\u001b[39;49m\u001b[38;5;124;43m'\u001b[39;49m\u001b[43m,\u001b[49m\u001b[43m \u001b[49m\u001b[43mfillna_value\u001b[49m\u001b[38;5;241;43m=\u001b[39;49m\u001b[38;5;28;43;01mNone\u001b[39;49;00m\u001b[43m)\u001b[49m\n",
      "File \u001b[0;32m/opt/anaconda3/envs/OpenMars/lib/python3.9/site-packages/darts/timeseries.py:414\u001b[0m, in \u001b[0;36mTimeSeries.from_dataframe\u001b[0;34m(cls, df, time_col, value_cols, fill_missing_dates, freq, fillna_value)\u001b[0m\n\u001b[1;32m    412\u001b[0m \u001b[38;5;66;03m# get values\u001b[39;00m\n\u001b[1;32m    413\u001b[0m \u001b[38;5;28;01mif\u001b[39;00m value_cols \u001b[38;5;129;01mis\u001b[39;00m \u001b[38;5;28;01mNone\u001b[39;00m:\n\u001b[0;32m--> 414\u001b[0m     series_df \u001b[38;5;241m=\u001b[39m df\u001b[38;5;241m.\u001b[39mloc[:, \u001b[43mdf\u001b[49m\u001b[38;5;241;43m.\u001b[39;49m\u001b[43mcolumns\u001b[49m \u001b[38;5;241m!=\u001b[39m time_col]\n\u001b[1;32m    415\u001b[0m \u001b[38;5;28;01melse\u001b[39;00m:\n\u001b[1;32m    416\u001b[0m     \u001b[38;5;28;01mif\u001b[39;00m \u001b[38;5;28misinstance\u001b[39m(value_cols, \u001b[38;5;28mstr\u001b[39m):\n",
      "File \u001b[0;32m/opt/anaconda3/envs/OpenMars/lib/python3.9/site-packages/pandas/core/generic.py:5487\u001b[0m, in \u001b[0;36mNDFrame.__getattr__\u001b[0;34m(self, name)\u001b[0m\n\u001b[1;32m   5480\u001b[0m \u001b[38;5;28;01mif\u001b[39;00m (\n\u001b[1;32m   5481\u001b[0m     name \u001b[38;5;129;01mnot\u001b[39;00m \u001b[38;5;129;01min\u001b[39;00m \u001b[38;5;28mself\u001b[39m\u001b[38;5;241m.\u001b[39m_internal_names_set\n\u001b[1;32m   5482\u001b[0m     \u001b[38;5;129;01mand\u001b[39;00m name \u001b[38;5;129;01mnot\u001b[39;00m \u001b[38;5;129;01min\u001b[39;00m \u001b[38;5;28mself\u001b[39m\u001b[38;5;241m.\u001b[39m_metadata\n\u001b[1;32m   5483\u001b[0m     \u001b[38;5;129;01mand\u001b[39;00m name \u001b[38;5;129;01mnot\u001b[39;00m \u001b[38;5;129;01min\u001b[39;00m \u001b[38;5;28mself\u001b[39m\u001b[38;5;241m.\u001b[39m_accessors\n\u001b[1;32m   5484\u001b[0m     \u001b[38;5;129;01mand\u001b[39;00m \u001b[38;5;28mself\u001b[39m\u001b[38;5;241m.\u001b[39m_info_axis\u001b[38;5;241m.\u001b[39m_can_hold_identifiers_and_holds_name(name)\n\u001b[1;32m   5485\u001b[0m ):\n\u001b[1;32m   5486\u001b[0m     \u001b[38;5;28;01mreturn\u001b[39;00m \u001b[38;5;28mself\u001b[39m[name]\n\u001b[0;32m-> 5487\u001b[0m \u001b[38;5;28;01mreturn\u001b[39;00m \u001b[38;5;28;43mobject\u001b[39;49m\u001b[38;5;241;43m.\u001b[39;49m\u001b[38;5;21;43m__getattribute__\u001b[39;49m\u001b[43m(\u001b[49m\u001b[38;5;28;43mself\u001b[39;49m\u001b[43m,\u001b[49m\u001b[43m \u001b[49m\u001b[43mname\u001b[49m\u001b[43m)\u001b[49m\n",
      "\u001b[0;31mAttributeError\u001b[0m: 'Series' object has no attribute 'columns'"
     ]
    }
   ],
   "source": [
    "series_Psurf = TimeSeries.from_dataframe(dataframe.Psurf, time_col=None, value_cols=None, fill_missing_dates=True, freq='7394S', fillna_value=None)"
   ]
  },
  {
   "cell_type": "code",
   "execution_count": 11,
   "id": "83fc0f67",
   "metadata": {},
   "outputs": [
    {
     "data": {
      "image/png": "[encoded data removed]",
      "text/plain": [
       "<Figure size 432x288 with 1 Axes>"
      ]
     },
     "metadata": {
      "needs_background": "light"
     },
     "output_type": "display_data"
    }
   ],
   "source": [
    "series.plot()"
   ]
  },
  {
   "cell_type": "code",
   "execution_count": 12,
   "id": "ec884c3a",
   "metadata": {},
   "outputs": [
    {
     "data": {
      "image/png": "[encoded data removed]",
      "text/plain": [
       "<Figure size 432x288 with 1 Axes>"
      ]
     },
     "metadata": {
      "needs_background": "light"
     },
     "output_type": "display_data"
    }
   ],
   "source": [
    "train_series, val_series = series.split_before(0.85)\n",
    "train_series.plot()\n",
    "val_series.plot()"
   ]
  },
  {
   "cell_type": "code",
   "execution_count": 60,
   "id": "6a76bbdf",
   "metadata": {},
   "outputs": [
    {
     "data": {
      "image/png": "[encoded data removed]",
      "text/plain": [
       "<Figure size 432x288 with 1 Axes>"
      ]
     },
     "metadata": {
      "needs_background": "light"
     },
     "output_type": "display_data"
    }
   ],
   "source": [
    "series.diff().plot()\n"
   ]
  },
  {
   "cell_type": "code",
   "execution_count": 63,
   "id": "f1cf5d59",
   "metadata": {},
   "outputs": [
    {
     "name": "stderr",
     "output_type": "stream",
     "text": [
      "[2022-06-19 16:04:12,147] ERROR | darts.timeseries | AssertionError: Only univariate TimeSeries instances support this method\n",
      "2022-06-19 16:04:12 darts.timeseries ERROR: AssertionError: Only univariate TimeSeries instances support this method\n"
     ]
    },
    {
     "ename": "AssertionError",
     "evalue": "Only univariate TimeSeries instances support this method",
     "output_type": "error",
     "traceback": [
      "\u001b[0;31m---------------------------------------------------------------------------\u001b[0m",
      "\u001b[0;31mAssertionError\u001b[0m                            Traceback (most recent call last)",
      "Input \u001b[0;32mIn [63]\u001b[0m, in \u001b[0;36m<cell line: 4>\u001b[0;34m()\u001b[0m\n\u001b[1;32m      1\u001b[0m \u001b[38;5;28;01mfrom\u001b[39;00m \u001b[38;5;21;01mdarts\u001b[39;00m\u001b[38;5;21;01m.\u001b[39;00m\u001b[38;5;21;01mmodels\u001b[39;00m \u001b[38;5;28;01mimport\u001b[39;00m NaiveSeasonal\n\u001b[1;32m      3\u001b[0m naive_model \u001b[38;5;241m=\u001b[39m NaiveSeasonal(K\u001b[38;5;241m=\u001b[39m\u001b[38;5;241m1\u001b[39m)\n\u001b[0;32m----> 4\u001b[0m \u001b[43mnaive_model\u001b[49m\u001b[38;5;241;43m.\u001b[39;49m\u001b[43mfit\u001b[49m\u001b[43m(\u001b[49m\u001b[43mtrain_series\u001b[49m\u001b[43m)\u001b[49m\n\u001b[1;32m      5\u001b[0m naive_forecast \u001b[38;5;241m=\u001b[39m naive_model\u001b[38;5;241m.\u001b[39mpredict(\u001b[38;5;241m36\u001b[39m)\n\u001b[1;32m      7\u001b[0m series\u001b[38;5;241m.\u001b[39mplot(label\u001b[38;5;241m=\u001b[39m\u001b[38;5;124m\"\u001b[39m\u001b[38;5;124mactual\u001b[39m\u001b[38;5;124m\"\u001b[39m)\n",
      "File \u001b[0;32m/opt/anaconda3/envs/OpenMars/lib/python3.9/site-packages/darts/models/forecasting/baselines.py:72\u001b[0m, in \u001b[0;36mNaiveSeasonal.fit\u001b[0;34m(self, series)\u001b[0m\n\u001b[1;32m     71\u001b[0m \u001b[38;5;28;01mdef\u001b[39;00m \u001b[38;5;21mfit\u001b[39m(\u001b[38;5;28mself\u001b[39m, series: TimeSeries):\n\u001b[0;32m---> 72\u001b[0m     \u001b[38;5;28;43msuper\u001b[39;49m\u001b[43m(\u001b[49m\u001b[43m)\u001b[49m\u001b[38;5;241;43m.\u001b[39;49m\u001b[43mfit\u001b[49m\u001b[43m(\u001b[49m\u001b[43mseries\u001b[49m\u001b[43m)\u001b[49m\n\u001b[1;32m     73\u001b[0m     raise_if_not(\n\u001b[1;32m     74\u001b[0m         \u001b[38;5;28mlen\u001b[39m(series) \u001b[38;5;241m>\u001b[39m\u001b[38;5;241m=\u001b[39m \u001b[38;5;28mself\u001b[39m\u001b[38;5;241m.\u001b[39mK,\n\u001b[1;32m     75\u001b[0m         \u001b[38;5;124mf\u001b[39m\u001b[38;5;124m\"\u001b[39m\u001b[38;5;124mThe time series requires at least K=\u001b[39m\u001b[38;5;132;01m{\u001b[39;00m\u001b[38;5;28mself\u001b[39m\u001b[38;5;241m.\u001b[39mK\u001b[38;5;132;01m}\u001b[39;00m\u001b[38;5;124m points\u001b[39m\u001b[38;5;124m\"\u001b[39m,\n\u001b[1;32m     76\u001b[0m         logger,\n\u001b[1;32m     77\u001b[0m     )\n\u001b[1;32m     78\u001b[0m     \u001b[38;5;28mself\u001b[39m\u001b[38;5;241m.\u001b[39mlast_k_vals \u001b[38;5;241m=\u001b[39m series\u001b[38;5;241m.\u001b[39munivariate_values()[\u001b[38;5;241m-\u001b[39m\u001b[38;5;28mself\u001b[39m\u001b[38;5;241m.\u001b[39mK :]\n",
      "File \u001b[0;32m/opt/anaconda3/envs/OpenMars/lib/python3.9/site-packages/darts/models/forecasting/forecasting_model.py:128\u001b[0m, in \u001b[0;36mForecastingModel.fit\u001b[0;34m(self, series)\u001b[0m\n\u001b[1;32m    115\u001b[0m \u001b[38;5;124;03m\"\"\"Fit/train the model on the provided series.\u001b[39;00m\n\u001b[1;32m    116\u001b[0m \n\u001b[1;32m    117\u001b[0m \u001b[38;5;124;03mParameters\u001b[39;00m\n\u001b[0;32m   (...)\u001b[0m\n\u001b[1;32m    125\u001b[0m \u001b[38;5;124;03m    Fitted model.\u001b[39;00m\n\u001b[1;32m    126\u001b[0m \u001b[38;5;124;03m\"\"\"\u001b[39;00m\n\u001b[1;32m    127\u001b[0m \u001b[38;5;28;01mif\u001b[39;00m \u001b[38;5;129;01mnot\u001b[39;00m \u001b[38;5;28misinstance\u001b[39m(\u001b[38;5;28mself\u001b[39m, DualCovariatesForecastingModel):\n\u001b[0;32m--> 128\u001b[0m     \u001b[43mseries\u001b[49m\u001b[38;5;241;43m.\u001b[39;49m\u001b[43m_assert_univariate\u001b[49m\u001b[43m(\u001b[49m\u001b[43m)\u001b[49m\n\u001b[1;32m    129\u001b[0m raise_if_not(\n\u001b[1;32m    130\u001b[0m     \u001b[38;5;28mlen\u001b[39m(series) \u001b[38;5;241m>\u001b[39m\u001b[38;5;241m=\u001b[39m \u001b[38;5;28mself\u001b[39m\u001b[38;5;241m.\u001b[39mmin_train_series_length,\n\u001b[1;32m    131\u001b[0m     \u001b[38;5;124m\"\u001b[39m\u001b[38;5;124mTrain series only contains \u001b[39m\u001b[38;5;132;01m{}\u001b[39;00m\u001b[38;5;124m elements but \u001b[39m\u001b[38;5;132;01m{}\u001b[39;00m\u001b[38;5;124m model requires at least \u001b[39m\u001b[38;5;132;01m{}\u001b[39;00m\u001b[38;5;124m entries\u001b[39m\u001b[38;5;124m\"\u001b[39m\u001b[38;5;241m.\u001b[39mformat(\n\u001b[1;32m    132\u001b[0m         \u001b[38;5;28mlen\u001b[39m(series), \u001b[38;5;28mstr\u001b[39m(\u001b[38;5;28mself\u001b[39m), \u001b[38;5;28mself\u001b[39m\u001b[38;5;241m.\u001b[39mmin_train_series_length\n\u001b[1;32m    133\u001b[0m     ),\n\u001b[1;32m    134\u001b[0m )\n\u001b[1;32m    135\u001b[0m \u001b[38;5;28mself\u001b[39m\u001b[38;5;241m.\u001b[39mtraining_series \u001b[38;5;241m=\u001b[39m series\n",
      "File \u001b[0;32m/opt/anaconda3/envs/OpenMars/lib/python3.9/site-packages/darts/timeseries.py:806\u001b[0m, in \u001b[0;36mTimeSeries._assert_univariate\u001b[0;34m(self)\u001b[0m\n\u001b[1;32m    804\u001b[0m \u001b[38;5;28;01mdef\u001b[39;00m \u001b[38;5;21m_assert_univariate\u001b[39m(\u001b[38;5;28mself\u001b[39m):\n\u001b[1;32m    805\u001b[0m     \u001b[38;5;28;01mif\u001b[39;00m \u001b[38;5;129;01mnot\u001b[39;00m \u001b[38;5;28mself\u001b[39m\u001b[38;5;241m.\u001b[39mis_univariate:\n\u001b[0;32m--> 806\u001b[0m         \u001b[43mraise_log\u001b[49m\u001b[43m(\u001b[49m\n\u001b[1;32m    807\u001b[0m \u001b[43m            \u001b[49m\u001b[38;5;167;43;01mAssertionError\u001b[39;49;00m\u001b[43m(\u001b[49m\n\u001b[1;32m    808\u001b[0m \u001b[43m                \u001b[49m\u001b[38;5;124;43m\"\u001b[39;49m\u001b[38;5;124;43mOnly univariate TimeSeries instances support this method\u001b[39;49m\u001b[38;5;124;43m\"\u001b[39;49m\n\u001b[1;32m    809\u001b[0m \u001b[43m            \u001b[49m\u001b[43m)\u001b[49m\u001b[43m,\u001b[49m\n\u001b[1;32m    810\u001b[0m \u001b[43m            \u001b[49m\u001b[43mlogger\u001b[49m\u001b[43m,\u001b[49m\n\u001b[1;32m    811\u001b[0m \u001b[43m        \u001b[49m\u001b[43m)\u001b[49m\n",
      "File \u001b[0;32m/opt/anaconda3/envs/OpenMars/lib/python3.9/site-packages/darts/logging.py:135\u001b[0m, in \u001b[0;36mraise_log\u001b[0;34m(exception, logger)\u001b[0m\n\u001b[1;32m    132\u001b[0m message \u001b[38;5;241m=\u001b[39m \u001b[38;5;28mstr\u001b[39m(exception)\n\u001b[1;32m    133\u001b[0m logger\u001b[38;5;241m.\u001b[39merror(exception_type \u001b[38;5;241m+\u001b[39m \u001b[38;5;124m\"\u001b[39m\u001b[38;5;124m: \u001b[39m\u001b[38;5;124m\"\u001b[39m \u001b[38;5;241m+\u001b[39m message)\n\u001b[0;32m--> 135\u001b[0m \u001b[38;5;28;01mraise\u001b[39;00m exception\n",
      "\u001b[0;31mAssertionError\u001b[0m: Only univariate TimeSeries instances support this method"
     ]
    }
   ],
   "source": [
    "from darts.models import NaiveSeasonal\n",
    "\n",
    "naive_model = NaiveSeasonal(K=1)\n",
    "naive_model.fit(train_series)\n",
    "naive_forecast = naive_model.predict(36)\n",
    "\n",
    "series.plot(label=\"actual\")\n",
    "naive_forecast.plot(label=\"naive forecast (K=1)\")"
   ]
  },
  {
   "cell_type": "code",
   "execution_count": 64,
   "id": "ffaca58b",
   "metadata": {},
   "outputs": [
    {
     "name": "stderr",
     "output_type": "stream",
     "text": [
      "[2022-06-19 16:04:38,063] ERROR | darts.timeseries | AssertionError: Only univariate TimeSeries instances support this method\n",
      "2022-06-19 16:04:38 darts.timeseries ERROR: AssertionError: Only univariate TimeSeries instances support this method\n"
     ]
    },
    {
     "ename": "AssertionError",
     "evalue": "Only univariate TimeSeries instances support this method",
     "output_type": "error",
     "traceback": [
      "\u001b[0;31m---------------------------------------------------------------------------\u001b[0m",
      "\u001b[0;31mAssertionError\u001b[0m                            Traceback (most recent call last)",
      "Input \u001b[0;32mIn [64]\u001b[0m, in \u001b[0;36m<cell line: 3>\u001b[0;34m()\u001b[0m\n\u001b[1;32m      1\u001b[0m \u001b[38;5;28;01mfrom\u001b[39;00m \u001b[38;5;21;01mdarts\u001b[39;00m\u001b[38;5;21;01m.\u001b[39;00m\u001b[38;5;21;01mutils\u001b[39;00m\u001b[38;5;21;01m.\u001b[39;00m\u001b[38;5;21;01mstatistics\u001b[39;00m \u001b[38;5;28;01mimport\u001b[39;00m plot_acf, check_seasonality\n\u001b[0;32m----> 3\u001b[0m \u001b[43mplot_acf\u001b[49m\u001b[43m(\u001b[49m\u001b[43mtrain_series\u001b[49m\u001b[43m,\u001b[49m\u001b[43m \u001b[49m\u001b[43mm\u001b[49m\u001b[38;5;241;43m=\u001b[39;49m\u001b[38;5;241;43m12\u001b[39;49m\u001b[43m,\u001b[49m\u001b[43m \u001b[49m\u001b[43malpha\u001b[49m\u001b[38;5;241;43m=\u001b[39;49m\u001b[38;5;241;43m0.05\u001b[39;49m\u001b[43m)\u001b[49m\n",
      "File \u001b[0;32m/opt/anaconda3/envs/OpenMars/lib/python3.9/site-packages/darts/utils/statistics.py:596\u001b[0m, in \u001b[0;36mplot_acf\u001b[0;34m(ts, m, max_lag, alpha, bartlett_confint, fig_size, axis)\u001b[0m\n\u001b[1;32m    557\u001b[0m \u001b[38;5;28;01mdef\u001b[39;00m \u001b[38;5;21mplot_acf\u001b[39m(\n\u001b[1;32m    558\u001b[0m     ts: TimeSeries,\n\u001b[1;32m    559\u001b[0m     m: Optional[\u001b[38;5;28mint\u001b[39m] \u001b[38;5;241m=\u001b[39m \u001b[38;5;28;01mNone\u001b[39;00m,\n\u001b[0;32m   (...)\u001b[0m\n\u001b[1;32m    564\u001b[0m     axis: Optional[plt\u001b[38;5;241m.\u001b[39maxis] \u001b[38;5;241m=\u001b[39m \u001b[38;5;28;01mNone\u001b[39;00m,\n\u001b[1;32m    565\u001b[0m ) \u001b[38;5;241m-\u001b[39m\u001b[38;5;241m>\u001b[39m \u001b[38;5;28;01mNone\u001b[39;00m:\n\u001b[1;32m    566\u001b[0m     \u001b[38;5;124;03m\"\"\"\u001b[39;00m\n\u001b[1;32m    567\u001b[0m \u001b[38;5;124;03m    Plots the ACF of `ts`, highlighting it at lag `m`, with corresponding significance interval.\u001b[39;00m\n\u001b[1;32m    568\u001b[0m \u001b[38;5;124;03m    Uses :func:`statsmodels.tsa.stattools.acf` [1]_\u001b[39;00m\n\u001b[0;32m   (...)\u001b[0m\n\u001b[1;32m    593\u001b[0m \u001b[38;5;124;03m    .. [1] https://www.statsmodels.org/dev/generated/statsmodels.tsa.stattools.acf.html\u001b[39;00m\n\u001b[1;32m    594\u001b[0m \u001b[38;5;124;03m    \"\"\"\u001b[39;00m\n\u001b[0;32m--> 596\u001b[0m     \u001b[43mts\u001b[49m\u001b[38;5;241;43m.\u001b[39;49m\u001b[43m_assert_univariate\u001b[49m\u001b[43m(\u001b[49m\u001b[43m)\u001b[49m\n\u001b[1;32m    597\u001b[0m     raise_if(\n\u001b[1;32m    598\u001b[0m         max_lag \u001b[38;5;129;01mis\u001b[39;00m \u001b[38;5;28;01mNone\u001b[39;00m \u001b[38;5;129;01mor\u001b[39;00m \u001b[38;5;129;01mnot\u001b[39;00m (\u001b[38;5;241m1\u001b[39m \u001b[38;5;241m<\u001b[39m\u001b[38;5;241m=\u001b[39m max_lag \u001b[38;5;241m<\u001b[39m \u001b[38;5;28mlen\u001b[39m(ts)),\n\u001b[1;32m    599\u001b[0m         \u001b[38;5;124m\"\u001b[39m\u001b[38;5;124mmax_lag must be greater than or equal to 1 and less than len(ts).\u001b[39m\u001b[38;5;124m\"\u001b[39m,\n\u001b[1;32m    600\u001b[0m     )\n\u001b[1;32m    601\u001b[0m     raise_if(\n\u001b[1;32m    602\u001b[0m         m \u001b[38;5;129;01mis\u001b[39;00m \u001b[38;5;129;01mnot\u001b[39;00m \u001b[38;5;28;01mNone\u001b[39;00m \u001b[38;5;129;01mand\u001b[39;00m \u001b[38;5;129;01mnot\u001b[39;00m (\u001b[38;5;241m0\u001b[39m \u001b[38;5;241m<\u001b[39m\u001b[38;5;241m=\u001b[39m m \u001b[38;5;241m<\u001b[39m\u001b[38;5;241m=\u001b[39m max_lag),\n\u001b[1;32m    603\u001b[0m         \u001b[38;5;124m\"\u001b[39m\u001b[38;5;124mm must be greater than or equal to 0 and less than or equal to max_lag.\u001b[39m\u001b[38;5;124m\"\u001b[39m,\n\u001b[1;32m    604\u001b[0m     )\n",
      "File \u001b[0;32m/opt/anaconda3/envs/OpenMars/lib/python3.9/site-packages/darts/timeseries.py:806\u001b[0m, in \u001b[0;36mTimeSeries._assert_univariate\u001b[0;34m(self)\u001b[0m\n\u001b[1;32m    804\u001b[0m \u001b[38;5;28;01mdef\u001b[39;00m \u001b[38;5;21m_assert_univariate\u001b[39m(\u001b[38;5;28mself\u001b[39m):\n\u001b[1;32m    805\u001b[0m     \u001b[38;5;28;01mif\u001b[39;00m \u001b[38;5;129;01mnot\u001b[39;00m \u001b[38;5;28mself\u001b[39m\u001b[38;5;241m.\u001b[39mis_univariate:\n\u001b[0;32m--> 806\u001b[0m         \u001b[43mraise_log\u001b[49m\u001b[43m(\u001b[49m\n\u001b[1;32m    807\u001b[0m \u001b[43m            \u001b[49m\u001b[38;5;167;43;01mAssertionError\u001b[39;49;00m\u001b[43m(\u001b[49m\n\u001b[1;32m    808\u001b[0m \u001b[43m                \u001b[49m\u001b[38;5;124;43m\"\u001b[39;49m\u001b[38;5;124;43mOnly univariate TimeSeries instances support this method\u001b[39;49m\u001b[38;5;124;43m\"\u001b[39;49m\n\u001b[1;32m    809\u001b[0m \u001b[43m            \u001b[49m\u001b[43m)\u001b[49m\u001b[43m,\u001b[49m\n\u001b[1;32m    810\u001b[0m \u001b[43m            \u001b[49m\u001b[43mlogger\u001b[49m\u001b[43m,\u001b[49m\n\u001b[1;32m    811\u001b[0m \u001b[43m        \u001b[49m\u001b[43m)\u001b[49m\n",
      "File \u001b[0;32m/opt/anaconda3/envs/OpenMars/lib/python3.9/site-packages/darts/logging.py:135\u001b[0m, in \u001b[0;36mraise_log\u001b[0;34m(exception, logger)\u001b[0m\n\u001b[1;32m    132\u001b[0m message \u001b[38;5;241m=\u001b[39m \u001b[38;5;28mstr\u001b[39m(exception)\n\u001b[1;32m    133\u001b[0m logger\u001b[38;5;241m.\u001b[39merror(exception_type \u001b[38;5;241m+\u001b[39m \u001b[38;5;124m\"\u001b[39m\u001b[38;5;124m: \u001b[39m\u001b[38;5;124m\"\u001b[39m \u001b[38;5;241m+\u001b[39m message)\n\u001b[0;32m--> 135\u001b[0m \u001b[38;5;28;01mraise\u001b[39;00m exception\n",
      "\u001b[0;31mAssertionError\u001b[0m: Only univariate TimeSeries instances support this method"
     ]
    }
   ],
   "source": [
    "from darts.utils.statistics import plot_acf, check_seasonality\n",
    "\n",
    "plot_acf(train_series, m=12, alpha=0.05)"
   ]
  },
  {
   "cell_type": "code",
   "execution_count": null,
   "id": "24e7a3ca",
   "metadata": {},
   "outputs": [],
   "source": []
  }
 ],
 "metadata": {
  "kernelspec": {
   "display_name": "Python 3 (ipykernel)",
   "language": "python",
   "name": "python3"
  },
  "language_info": {
   "codemirror_mode": {
    "name": "ipython",
    "version": 3
   },
   "file_extension": ".py",
   "mimetype": "text/x-python",
   "name": "python",
   "nbconvert_exporter": "python",
   "pygments_lexer": "ipython3",
   "version": "3.9.12"
  }
 },
 "nbformat": 4,
 "nbformat_minor": 5
}
