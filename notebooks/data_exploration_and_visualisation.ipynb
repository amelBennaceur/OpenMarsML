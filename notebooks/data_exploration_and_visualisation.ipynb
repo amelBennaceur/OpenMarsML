{
 "cells": [
  {
   "cell_type": "markdown",
   "id": "4d4e4c8e",
   "metadata": {},
   "source": [
    "#  Introduction\n",
    "\n",
    "## About this dataset\n",
    "\n",
    "For each dataset, the fields are:\n",
    "* Time\n",
    "* Ls\n",
    "* LT\n",
    "* Tsurf: surface temperature (in Kelvin)\n",
    "* Psurf: surface pressure (in Pascals)\n",
    "* CO2ice: Surface carbon dioxide ice (in kg per metre squared)\n",
    "* cloud: water ice column (in opacity)\n",
    "* vapour: water vapour column (in kg per metre squared)\n",
    "* u_wind: Zonal wind (west-east) (metres per second)\n",
    "* v_wind: Meridional wind (north-south) (metres per second)\n",
    "* dust: dust column (in opacity)\n",
    "* temp: atmospheric temperature at a height of abour 2.5 km (in Kelvin)\n",
    "\n",
    "## About this notebook\n",
    "The purpose of this notebook is to explore this dataset in terms of different visualisations. The lux library (https://github.com/lux-org/lux) is used for visualisation purpose.\n",
    "\n",
    "Kindly visit (https://lux-api.readthedocs.io/en/latest/source/getting_started/installation.html) to install the jupyter notebook widget to enable lux on the notebook if Lux doesn't function properly in your local notebook.\n",
    "\n",
    "### Limitations\n",
    "\n",
    "No optimisation for memory, runtime, or readability."
   ]
  },
  {
   "cell_type": "markdown",
   "id": "9873f8e5",
   "metadata": {},
   "source": [
    "## Install and import required libraries"
   ]
  },
  {
   "cell_type": "code",
   "execution_count": 7,
   "id": "c5e7b6aa",
   "metadata": {},
   "outputs": [
    {
     "name": "stdout",
     "output_type": "stream",
     "text": [
      "Requirement already satisfied: lux-api==0.5.1 in ./mars/lib/python3.8/site-packages (0.5.1)\n",
      "Requirement already satisfied: scipy>=1.3.3 in ./mars/lib/python3.8/site-packages (from lux-api==0.5.1) (1.8.0)\n",
      "Requirement already satisfied: numpy>=1.16.5 in ./mars/lib/python3.8/site-packages (from lux-api==0.5.1) (1.21.5)\n",
      "Requirement already satisfied: matplotlib>=3.0.0 in ./mars/lib/python3.8/site-packages (from lux-api==0.5.1) (3.5.1)\n",
      "Requirement already satisfied: sh in ./mars/lib/python3.8/site-packages (from lux-api==0.5.1) (1.14.2)\n",
      "Requirement already satisfied: psutil>=5.9.0 in ./mars/lib/python3.8/site-packages (from lux-api==0.5.1) (5.9.0)\n",
      "Requirement already satisfied: lux-widget>=0.1.4 in ./mars/lib/python3.8/site-packages (from lux-api==0.5.1) (0.1.11)\n",
      "Requirement already satisfied: scikit-learn>=0.22 in ./mars/lib/python3.8/site-packages (from lux-api==0.5.1) (1.0.2)\n",
      "Requirement already satisfied: pandas in ./mars/lib/python3.8/site-packages (from lux-api==0.5.1) (1.3.5)\n",
      "Requirement already satisfied: altair>=4.0.0 in ./mars/lib/python3.8/site-packages (from lux-api==0.5.1) (4.2.0)\n",
      "Requirement already satisfied: autopep8>=1.5 in ./mars/lib/python3.8/site-packages (from lux-api==0.5.1) (1.6.0)\n",
      "Requirement already satisfied: iso3166 in ./mars/lib/python3.8/site-packages (from lux-api==0.5.1) (2.0.2)\n",
      "Requirement already satisfied: jinja2 in ./mars/lib/python3.8/site-packages (from altair>=4.0.0->lux-api==0.5.1) (3.0.3)\n",
      "Requirement already satisfied: entrypoints in ./mars/lib/python3.8/site-packages (from altair>=4.0.0->lux-api==0.5.1) (0.4)\n",
      "Requirement already satisfied: jsonschema>=3.0 in ./mars/lib/python3.8/site-packages (from altair>=4.0.0->lux-api==0.5.1) (4.4.0)\n",
      "Requirement already satisfied: toolz in ./mars/lib/python3.8/site-packages (from altair>=4.0.0->lux-api==0.5.1) (0.11.2)\n",
      "Requirement already satisfied: toml in ./mars/lib/python3.8/site-packages (from autopep8>=1.5->lux-api==0.5.1) (0.10.2)\n",
      "Requirement already satisfied: pycodestyle>=2.8.0 in ./mars/lib/python3.8/site-packages (from autopep8>=1.5->lux-api==0.5.1) (2.8.0)\n",
      "Requirement already satisfied: notebook>=4.0.0 in ./mars/lib/python3.8/site-packages (from lux-widget>=0.1.4->lux-api==0.5.1) (6.4.8)\n",
      "Requirement already satisfied: ipywidgets>=7.5.0 in ./mars/lib/python3.8/site-packages (from lux-widget>=0.1.4->lux-api==0.5.1) (7.6.5)\n",
      "Requirement already satisfied: python-dateutil>=2.7 in ./mars/lib/python3.8/site-packages (from matplotlib>=3.0.0->lux-api==0.5.1) (2.8.2)\n",
      "Requirement already satisfied: cycler>=0.10 in ./mars/lib/python3.8/site-packages (from matplotlib>=3.0.0->lux-api==0.5.1) (0.11.0)\n",
      "Requirement already satisfied: kiwisolver>=1.0.1 in ./mars/lib/python3.8/site-packages (from matplotlib>=3.0.0->lux-api==0.5.1) (1.3.2)\n",
      "Requirement already satisfied: packaging>=20.0 in ./mars/lib/python3.8/site-packages (from matplotlib>=3.0.0->lux-api==0.5.1) (21.3)\n",
      "Requirement already satisfied: pyparsing>=2.2.1 in ./mars/lib/python3.8/site-packages (from matplotlib>=3.0.0->lux-api==0.5.1) (3.0.7)\n",
      "Requirement already satisfied: pillow>=6.2.0 in ./mars/lib/python3.8/site-packages (from matplotlib>=3.0.0->lux-api==0.5.1) (9.0.1)\n",
      "Requirement already satisfied: fonttools>=4.22.0 in ./mars/lib/python3.8/site-packages (from matplotlib>=3.0.0->lux-api==0.5.1) (4.29.1)\n",
      "Requirement already satisfied: pytz>=2017.3 in ./mars/lib/python3.8/site-packages (from pandas->lux-api==0.5.1) (2021.3)\n",
      "Requirement already satisfied: joblib>=0.11 in ./mars/lib/python3.8/site-packages (from scikit-learn>=0.22->lux-api==0.5.1) (1.1.0)\n",
      "Requirement already satisfied: threadpoolctl>=2.0.0 in ./mars/lib/python3.8/site-packages (from scikit-learn>=0.22->lux-api==0.5.1) (3.1.0)\n",
      "Requirement already satisfied: traitlets>=4.3.1 in ./mars/lib/python3.8/site-packages (from ipywidgets>=7.5.0->lux-widget>=0.1.4->lux-api==0.5.1) (5.1.1)\n",
      "Requirement already satisfied: widgetsnbextension~=3.5.0 in ./mars/lib/python3.8/site-packages (from ipywidgets>=7.5.0->lux-widget>=0.1.4->lux-api==0.5.1) (3.5.2)\n",
      "Requirement already satisfied: ipython>=4.0.0 in ./mars/lib/python3.8/site-packages (from ipywidgets>=7.5.0->lux-widget>=0.1.4->lux-api==0.5.1) (8.0.1)\n",
      "Requirement already satisfied: nbformat>=4.2.0 in ./mars/lib/python3.8/site-packages (from ipywidgets>=7.5.0->lux-widget>=0.1.4->lux-api==0.5.1) (5.1.3)\n",
      "Requirement already satisfied: jupyterlab-widgets>=1.0.0 in ./mars/lib/python3.8/site-packages (from ipywidgets>=7.5.0->lux-widget>=0.1.4->lux-api==0.5.1) (1.0.2)\n",
      "Requirement already satisfied: ipykernel>=4.5.1 in ./mars/lib/python3.8/site-packages (from ipywidgets>=7.5.0->lux-widget>=0.1.4->lux-api==0.5.1) (6.9.1)\n",
      "Requirement already satisfied: ipython-genutils~=0.2.0 in ./mars/lib/python3.8/site-packages (from ipywidgets>=7.5.0->lux-widget>=0.1.4->lux-api==0.5.1) (0.2.0)\n",
      "Requirement already satisfied: attrs>=17.4.0 in ./mars/lib/python3.8/site-packages (from jsonschema>=3.0->altair>=4.0.0->lux-api==0.5.1) (21.4.0)\n",
      "Requirement already satisfied: pyrsistent!=0.17.0,!=0.17.1,!=0.17.2,>=0.14.0 in ./mars/lib/python3.8/site-packages (from jsonschema>=3.0->altair>=4.0.0->lux-api==0.5.1) (0.18.1)\n",
      "Requirement already satisfied: importlib-resources>=1.4.0 in ./mars/lib/python3.8/site-packages (from jsonschema>=3.0->altair>=4.0.0->lux-api==0.5.1) (5.4.0)\n",
      "Requirement already satisfied: prometheus-client in ./mars/lib/python3.8/site-packages (from notebook>=4.0.0->lux-widget>=0.1.4->lux-api==0.5.1) (0.13.1)\n",
      "Requirement already satisfied: jupyter-client>=5.3.4 in ./mars/lib/python3.8/site-packages (from notebook>=4.0.0->lux-widget>=0.1.4->lux-api==0.5.1) (7.1.2)\n",
      "Requirement already satisfied: nbconvert in ./mars/lib/python3.8/site-packages (from notebook>=4.0.0->lux-widget>=0.1.4->lux-api==0.5.1) (6.4.2)\n",
      "Requirement already satisfied: pyzmq>=17 in ./mars/lib/python3.8/site-packages (from notebook>=4.0.0->lux-widget>=0.1.4->lux-api==0.5.1) (22.3.0)\n",
      "Requirement already satisfied: terminado>=0.8.3 in ./mars/lib/python3.8/site-packages (from notebook>=4.0.0->lux-widget>=0.1.4->lux-api==0.5.1) (0.13.1)\n",
      "Requirement already satisfied: nest-asyncio>=1.5 in ./mars/lib/python3.8/site-packages (from notebook>=4.0.0->lux-widget>=0.1.4->lux-api==0.5.1) (1.5.4)\n",
      "Requirement already satisfied: Send2Trash>=1.8.0 in ./mars/lib/python3.8/site-packages (from notebook>=4.0.0->lux-widget>=0.1.4->lux-api==0.5.1) (1.8.0)\n",
      "Requirement already satisfied: tornado>=6.1 in ./mars/lib/python3.8/site-packages (from notebook>=4.0.0->lux-widget>=0.1.4->lux-api==0.5.1) (6.1)\n",
      "Requirement already satisfied: argon2-cffi in ./mars/lib/python3.8/site-packages (from notebook>=4.0.0->lux-widget>=0.1.4->lux-api==0.5.1) (21.3.0)\n",
      "Requirement already satisfied: jupyter-core>=4.6.1 in ./mars/lib/python3.8/site-packages (from notebook>=4.0.0->lux-widget>=0.1.4->lux-api==0.5.1) (4.9.2)\n",
      "Requirement already satisfied: six>=1.5 in ./mars/lib/python3.8/site-packages (from python-dateutil>=2.7->matplotlib>=3.0.0->lux-api==0.5.1) (1.16.0)\n",
      "Requirement already satisfied: MarkupSafe>=2.0 in ./mars/lib/python3.8/site-packages (from jinja2->altair>=4.0.0->lux-api==0.5.1) (2.0.1)\n",
      "Requirement already satisfied: zipp>=3.1.0 in ./mars/lib/python3.8/site-packages (from importlib-resources>=1.4.0->jsonschema>=3.0->altair>=4.0.0->lux-api==0.5.1) (3.7.0)\n",
      "Requirement already satisfied: matplotlib-inline<0.2.0,>=0.1.0 in ./mars/lib/python3.8/site-packages (from ipykernel>=4.5.1->ipywidgets>=7.5.0->lux-widget>=0.1.4->lux-api==0.5.1) (0.1.3)\n",
      "Requirement already satisfied: debugpy<2.0,>=1.0.0 in ./mars/lib/python3.8/site-packages (from ipykernel>=4.5.1->ipywidgets>=7.5.0->lux-widget>=0.1.4->lux-api==0.5.1) (1.5.1)\n",
      "Requirement already satisfied: appnope in ./mars/lib/python3.8/site-packages (from ipykernel>=4.5.1->ipywidgets>=7.5.0->lux-widget>=0.1.4->lux-api==0.5.1) (0.1.2)\n",
      "Requirement already satisfied: jedi>=0.16 in ./mars/lib/python3.8/site-packages (from ipython>=4.0.0->ipywidgets>=7.5.0->lux-widget>=0.1.4->lux-api==0.5.1) (0.18.1)\n",
      "Requirement already satisfied: prompt-toolkit!=3.0.0,!=3.0.1,<3.1.0,>=2.0.0 in ./mars/lib/python3.8/site-packages (from ipython>=4.0.0->ipywidgets>=7.5.0->lux-widget>=0.1.4->lux-api==0.5.1) (3.0.28)\n",
      "Requirement already satisfied: pygments in ./mars/lib/python3.8/site-packages (from ipython>=4.0.0->ipywidgets>=7.5.0->lux-widget>=0.1.4->lux-api==0.5.1) (2.11.2)\n",
      "Requirement already satisfied: pickleshare in ./mars/lib/python3.8/site-packages (from ipython>=4.0.0->ipywidgets>=7.5.0->lux-widget>=0.1.4->lux-api==0.5.1) (0.7.5)\n",
      "Requirement already satisfied: pexpect>4.3 in ./mars/lib/python3.8/site-packages (from ipython>=4.0.0->ipywidgets>=7.5.0->lux-widget>=0.1.4->lux-api==0.5.1) (4.8.0)\n",
      "Requirement already satisfied: decorator in ./mars/lib/python3.8/site-packages (from ipython>=4.0.0->ipywidgets>=7.5.0->lux-widget>=0.1.4->lux-api==0.5.1) (5.1.1)\n",
      "Requirement already satisfied: stack-data in ./mars/lib/python3.8/site-packages (from ipython>=4.0.0->ipywidgets>=7.5.0->lux-widget>=0.1.4->lux-api==0.5.1) (0.2.0)\n",
      "Requirement already satisfied: setuptools>=18.5 in ./mars/lib/python3.8/site-packages (from ipython>=4.0.0->ipywidgets>=7.5.0->lux-widget>=0.1.4->lux-api==0.5.1) (57.0.0)\n",
      "Requirement already satisfied: black in ./mars/lib/python3.8/site-packages (from ipython>=4.0.0->ipywidgets>=7.5.0->lux-widget>=0.1.4->lux-api==0.5.1) (22.1.0)\n",
      "Requirement already satisfied: backcall in ./mars/lib/python3.8/site-packages (from ipython>=4.0.0->ipywidgets>=7.5.0->lux-widget>=0.1.4->lux-api==0.5.1) (0.2.0)\n"
     ]
    },
    {
     "name": "stdout",
     "output_type": "stream",
     "text": [
      "Requirement already satisfied: ptyprocess in ./mars/lib/python3.8/site-packages (from terminado>=0.8.3->notebook>=4.0.0->lux-widget>=0.1.4->lux-api==0.5.1) (0.7.0)\n",
      "Requirement already satisfied: argon2-cffi-bindings in ./mars/lib/python3.8/site-packages (from argon2-cffi->notebook>=4.0.0->lux-widget>=0.1.4->lux-api==0.5.1) (21.2.0)\n",
      "Requirement already satisfied: mistune<2,>=0.8.1 in ./mars/lib/python3.8/site-packages (from nbconvert->notebook>=4.0.0->lux-widget>=0.1.4->lux-api==0.5.1) (0.8.4)\n",
      "Requirement already satisfied: testpath in ./mars/lib/python3.8/site-packages (from nbconvert->notebook>=4.0.0->lux-widget>=0.1.4->lux-api==0.5.1) (0.5.0)\n",
      "Requirement already satisfied: jupyterlab-pygments in ./mars/lib/python3.8/site-packages (from nbconvert->notebook>=4.0.0->lux-widget>=0.1.4->lux-api==0.5.1) (0.1.2)\n",
      "Requirement already satisfied: defusedxml in ./mars/lib/python3.8/site-packages (from nbconvert->notebook>=4.0.0->lux-widget>=0.1.4->lux-api==0.5.1) (0.7.1)\n",
      "Requirement already satisfied: bleach in ./mars/lib/python3.8/site-packages (from nbconvert->notebook>=4.0.0->lux-widget>=0.1.4->lux-api==0.5.1) (4.1.0)\n",
      "Requirement already satisfied: nbclient<0.6.0,>=0.5.0 in ./mars/lib/python3.8/site-packages (from nbconvert->notebook>=4.0.0->lux-widget>=0.1.4->lux-api==0.5.1) (0.5.11)\n",
      "Requirement already satisfied: pandocfilters>=1.4.1 in ./mars/lib/python3.8/site-packages (from nbconvert->notebook>=4.0.0->lux-widget>=0.1.4->lux-api==0.5.1) (1.5.0)\n",
      "Requirement already satisfied: parso<0.9.0,>=0.8.0 in ./mars/lib/python3.8/site-packages (from jedi>=0.16->ipython>=4.0.0->ipywidgets>=7.5.0->lux-widget>=0.1.4->lux-api==0.5.1) (0.8.3)\n",
      "Requirement already satisfied: wcwidth in ./mars/lib/python3.8/site-packages (from prompt-toolkit!=3.0.0,!=3.0.1,<3.1.0,>=2.0.0->ipython>=4.0.0->ipywidgets>=7.5.0->lux-widget>=0.1.4->lux-api==0.5.1) (0.2.5)\n",
      "Requirement already satisfied: cffi>=1.0.1 in ./mars/lib/python3.8/site-packages (from argon2-cffi-bindings->argon2-cffi->notebook>=4.0.0->lux-widget>=0.1.4->lux-api==0.5.1) (1.15.0)\n",
      "Requirement already satisfied: mypy-extensions>=0.4.3 in ./mars/lib/python3.8/site-packages (from black->ipython>=4.0.0->ipywidgets>=7.5.0->lux-widget>=0.1.4->lux-api==0.5.1) (0.4.3)\n",
      "Requirement already satisfied: click>=8.0.0 in ./mars/lib/python3.8/site-packages (from black->ipython>=4.0.0->ipywidgets>=7.5.0->lux-widget>=0.1.4->lux-api==0.5.1) (8.0.3)\n",
      "Requirement already satisfied: typing-extensions>=3.10.0.0 in ./mars/lib/python3.8/site-packages (from black->ipython>=4.0.0->ipywidgets>=7.5.0->lux-widget>=0.1.4->lux-api==0.5.1) (4.1.1)\n",
      "Requirement already satisfied: tomli>=1.1.0 in ./mars/lib/python3.8/site-packages (from black->ipython>=4.0.0->ipywidgets>=7.5.0->lux-widget>=0.1.4->lux-api==0.5.1) (2.0.1)\n",
      "Requirement already satisfied: platformdirs>=2 in ./mars/lib/python3.8/site-packages (from black->ipython>=4.0.0->ipywidgets>=7.5.0->lux-widget>=0.1.4->lux-api==0.5.1) (2.5.0)\n",
      "Requirement already satisfied: pathspec>=0.9.0 in ./mars/lib/python3.8/site-packages (from black->ipython>=4.0.0->ipywidgets>=7.5.0->lux-widget>=0.1.4->lux-api==0.5.1) (0.9.0)\n",
      "Requirement already satisfied: webencodings in ./mars/lib/python3.8/site-packages (from bleach->nbconvert->notebook>=4.0.0->lux-widget>=0.1.4->lux-api==0.5.1) (0.5.1)\n",
      "Requirement already satisfied: asttokens in ./mars/lib/python3.8/site-packages (from stack-data->ipython>=4.0.0->ipywidgets>=7.5.0->lux-widget>=0.1.4->lux-api==0.5.1) (2.0.5)\n",
      "Requirement already satisfied: executing in ./mars/lib/python3.8/site-packages (from stack-data->ipython>=4.0.0->ipywidgets>=7.5.0->lux-widget>=0.1.4->lux-api==0.5.1) (0.8.2)\n",
      "Requirement already satisfied: pure-eval in ./mars/lib/python3.8/site-packages (from stack-data->ipython>=4.0.0->ipywidgets>=7.5.0->lux-widget>=0.1.4->lux-api==0.5.1) (0.2.2)\n",
      "Requirement already satisfied: pycparser in ./mars/lib/python3.8/site-packages (from cffi>=1.0.1->argon2-cffi-bindings->argon2-cffi->notebook>=4.0.0->lux-widget>=0.1.4->lux-api==0.5.1) (2.21)\n",
      "Installing /Users/suprety/OU_Colab/OpenMarsML/mars/lib/python3.8/site-packages/luxwidget/nbextension/static -> luxwidget\n",
      "Up to date: /usr/local/share/jupyter/nbextensions/luxwidget/index.js\n",
      "Up to date: /usr/local/share/jupyter/nbextensions/luxwidget/index.js.map\n",
      "Up to date: /usr/local/share/jupyter/nbextensions/luxwidget/extension.js\n",
      "- Validating: \u001b[32mOK\u001b[0m\n",
      "\n",
      "    To initialize this nbextension in the browser every time the notebook (or other app) loads:\n",
      "    \n",
      "          jupyter nbextension enable luxwidget --py\n",
      "    \n",
      "Enabling notebook extension luxwidget/extension...\n",
      "      - Validating: \u001b[32mOK\u001b[0m\n"
     ]
    }
   ],
   "source": [
    "!pip install lux-api==0.5.1\n",
    "!jupyter nbextension install --py luxwidget\n",
    "!jupyter nbextension enable --py luxwidget\n",
    "import pandas as pd\n",
    "import lux"
   ]
  },
  {
   "cell_type": "markdown",
   "id": "62f4361b",
   "metadata": {},
   "source": [
    "## Begin with code snippets"
   ]
  },
  {
   "cell_type": "code",
   "execution_count": 25,
   "id": "85727e43",
   "metadata": {},
   "outputs": [
    {
     "data": {
      "application/vnd.jupyter.widget-view+json": {
       "model_id": "2fdbcecfc769428caefd20784e1e7134",
       "version_major": 2,
       "version_minor": 0
      },
      "text/plain": [
       "Button(description='Toggle Pandas/Lux', layout=Layout(top='5px', width='140px'), style=ButtonStyle())"
      ]
     },
     "metadata": {},
     "output_type": "display_data"
    },
    {
     "data": {
      "application/vnd.jupyter.widget-view+json": {
       "model_id": "1f0a1525202e4982ba956e64144e4332",
       "version_major": 2,
       "version_minor": 0
      },
      "text/plain": [
       "Output()"
      ]
     },
     "metadata": {},
     "output_type": "display_data"
    }
   ],
   "source": [
    "#inmport data\n",
    "df= pd.read_csv('data/insight_openmars_training_time.csv')\n",
    "df.drop(['Ls','LT','CO2ice'],axis=1,inplace=True)\n",
    "target = df['Psurf']\n",
    "df.drop(labels=['Psurf'], axis=1,inplace = True)\n",
    "df.insert(1, 'Psurf', target)\n",
    "\n",
    "df['Time']= pd.to_datetime(df['Time'])\n",
    "df"
   ]
  },
  {
   "cell_type": "code",
   "execution_count": 28,
   "id": "6e8a80cf",
   "metadata": {},
   "outputs": [
    {
     "data": {
      "application/vnd.jupyter.widget-view+json": {
       "model_id": "ed2df86c870641d6b4655aa23eebc76b",
       "version_major": 2,
       "version_minor": 0
      },
      "text/plain": [
       "LuxWidget(recommendations=[{'action': 'Vis List', 'description': 'Shows a vis list defined by the intent', 'vs…"
      ]
     },
     "metadata": {},
     "output_type": "display_data"
    }
   ],
   "source": [
    "# Display Surface pressure based plots\n",
    "df.intent = [\"Psurf\"]\n",
    "Psurf_viz = df.recommendation['Enhance']\n",
    "Psurf_viz"
   ]
  },
  {
   "cell_type": "code",
   "execution_count": null,
   "id": "b0845bbe",
   "metadata": {},
   "outputs": [],
   "source": []
  }
 ],
 "metadata": {
  "kernelspec": {
   "display_name": "Python 3 (ipykernel)",
   "language": "python",
   "name": "python3"
  },
  "language_info": {
   "codemirror_mode": {
    "name": "ipython",
    "version": 3
   },
   "file_extension": ".py",
   "mimetype": "text/x-python",
   "name": "python",
   "nbconvert_exporter": "python",
   "pygments_lexer": "ipython3",
   "version": "3.8.9"
  }
 },
 "nbformat": 4,
 "nbformat_minor": 5
}
