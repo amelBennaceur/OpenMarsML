{
 "cells": [
  {
   "cell_type": "code",
   "execution_count": 2,
   "metadata": {},
   "outputs": [
    {
     "data": {
      "text/plain": [
       "<Experiment: artifact_location='mlflow-artifacts:/760735694303226658', creation_time=1706440659459, experiment_id='760735694303226658', last_update_time=1706440659459, lifecycle_stage='active', name='OpenMarsHyperOpt', tags={}>"
      ]
     },
     "execution_count": 2,
     "metadata": {},
     "output_type": "execute_result"
    }
   ],
   "source": [
    "import sys\n",
    "import torch\n",
    "import mlflow\n",
    "import optuna\n",
    "import numpy as np\n",
    "import pandas as pd\n",
    "from datetime import datetime\n",
    "from darts import TimeSeries\n",
    "import matplotlib.pyplot as plt\n",
    "from darts.metrics import mae, mse, mape, rmse, smape\n",
    "from darts.dataprocessing.transformers.scaler import Scaler\n",
    "from pytorch_lightning.callbacks import EarlyStopping\n",
    "from optuna.integration import PyTorchLightningPruningCallback\n",
    "from darts.models import RNNModel, BlockRNNModel, TCNModel, TransformerModel, TCNModel, NBEATSModel\n",
    "\n",
    "sys.path.append('../utils/')\n",
    "\n",
    "from config import config\n",
    "\n",
    "freq='2H3T14S'\n",
    "mlflow.set_tracking_uri(uri=\"http://127.0.0.1:8080\")\n",
    "mlflow.set_experiment(\"OpenMarsHyperOpt\")"
   ]
  },
  {
   "cell_type": "code",
   "execution_count": 3,
   "metadata": {},
   "outputs": [],
   "source": [
    "def load_dataset(training_file, testing_file):\n",
    "    dataframes = []\n",
    "    for data_file in [training_file, testing_file]:\n",
    "        parser = lambda data_string: datetime.strptime(data_string, '%Y-%m-%d %H:%M:%S')\n",
    "        dataframe = pd.read_csv(data_file, parse_dates=['Time'],\n",
    "                                date_parser=parser)\n",
    "        print(f\"Rows in {data_file}: {len(dataframe)}\")\n",
    "        dataframe.drop(['Ls', 'LT', 'CO2ice'], axis=1, inplace=True)\n",
    "        dataframes.append(dataframe)\n",
    "\n",
    "    return pd.concat(dataframes, axis=0)\n",
    "\n",
    "\n",
    "def preprocess(dataframe):\n",
    "        time = pd.date_range(\"1998-07-15 21:23:39\", periods=len(dataframe), freq=freq)\n",
    "        dataframe.index = time\n",
    "        dataframe = dataframe.drop(['Time'], axis=1)\n",
    "        return dataframe\n",
    "\n",
    "def create_series(dataframe):\n",
    "        series = TimeSeries.from_dataframe(dataframe, time_col=None, value_cols=None, fill_missing_dates=True, freq='7394S', fillna_value=None)\n",
    "        return series.astype(np.float32)\n",
    "\n",
    "def create_train_val_test_series(series):\n",
    "        train, temp = series.split_after(0.7)\n",
    "        val, test = temp.split_after(0.67)\n",
    "        return train, val, test"
   ]
  },
  {
   "cell_type": "code",
   "execution_count": 4,
   "metadata": {},
   "outputs": [
    {
     "name": "stderr",
     "output_type": "stream",
     "text": [
      "/tmp/ipykernel_15108/3053129343.py:5: FutureWarning: The argument 'date_parser' is deprecated and will be removed in a future version. Please use 'date_format' instead, or read your data in as 'object' dtype and then call 'to_datetime'.\n",
      "  dataframe = pd.read_csv(data_file, parse_dates=['Time'],\n"
     ]
    },
    {
     "name": "stdout",
     "output_type": "stream",
     "text": [
      "Rows in ../data/data_files/insight_openmars_training_time.csv: 72196\n",
      "Rows in ../data/data_files/insight_openmars_test_time.csv: 16364\n"
     ]
    },
    {
     "name": "stderr",
     "output_type": "stream",
     "text": [
      "/tmp/ipykernel_15108/3053129343.py:5: FutureWarning: The argument 'date_parser' is deprecated and will be removed in a future version. Please use 'date_format' instead, or read your data in as 'object' dtype and then call 'to_datetime'.\n",
      "  dataframe = pd.read_csv(data_file, parse_dates=['Time'],\n"
     ]
    }
   ],
   "source": [
    "dataframe = load_dataset('../data/data_files/insight_openmars_training_time.csv',\n",
    "                         '../data/data_files/insight_openmars_test_time.csv')\n",
    "dataframe = preprocess(dataframe)\n",
    "train, val, test = create_train_val_test_series(create_series(dataframe))\n",
    "# print(len(train), len(val), len(test))"
   ]
  },
  {
   "cell_type": "code",
   "execution_count": 5,
   "metadata": {},
   "outputs": [
    {
     "data": {
      "text/plain": [
       "<Axes: xlabel='time'>"
      ]
     },
     "execution_count": 5,
     "metadata": {},
     "output_type": "execute_result"
    },
    {
     "data": {
      "image/png": "[encoded data removed]",
      "text/plain": [
       "<Figure size 640x480 with 1 Axes>"
      ]
     },
     "metadata": {},
     "output_type": "display_data"
    }
   ],
   "source": [
    "val['dust'].plot(label='val')\n",
    "test['dust'].plot(label='test')\n",
    "train['dust'].plot(label='train')\n"
   ]
  },
  {
   "cell_type": "code",
   "execution_count": 6,
   "metadata": {},
   "outputs": [],
   "source": [
    "scaler = Scaler()  # default uses sklearn's MinMaxScaler\n",
    "train = scaler.fit_transform(train)\n",
    "val = scaler.transform(val)\n",
    "test = scaler.transform(test)\n",
    "\n",
    "lr_scheduler_cls = torch.optim.lr_scheduler.ExponentialLR\n",
    "models = {}"
   ]
  },
  {
   "cell_type": "code",
   "execution_count": null,
   "metadata": {},
   "outputs": [],
   "source": [
    "def create_block_rnn_model(trial):\n",
    "\n",
    "    # select input and output chunk lengths\n",
    "    in_len = trial.suggest_categorical(\"input_chunk_length\", [12, 24, 36, 48, 96])\n",
    "    out_len =  in_len-1\n",
    "    batch_size = trial.suggest_categorical('batch_size', [32, 96, 128, 256])\n",
    "\n",
    "    # Other hyperparameters\n",
    "    n_rnn_layers = trial.suggest_int(\"n_rnn_layers\", 2, 5)\n",
    "    hidden_dim =  trial.suggest_categorical(\"hidden_dim\", [20, 30, 40, 60])\n",
    "    dropout = trial.suggest_categorical(\"dropout\", [0.05, 0.1, 0.15, 0.2, 0.25])\n",
    "    lr = trial.suggest_float(\"lr\", 5e-5, 1e-3, log=True)\n",
    "    # reproducibility\n",
    "    torch.manual_seed(42)\n",
    "\n",
    "    pruner = PyTorchLightningPruningCallback(trial, monitor=\"val_loss\")\n",
    "    early_stopper = EarlyStopping(\"val_loss\", min_delta=0.0008, patience=2, verbose=False)\n",
    "    callbacks = [pruner, early_stopper]\n",
    "\n",
    "    pl_trainer_kwargs = {\n",
    "    \"gradient_clip_val\": 1,\n",
    "    \"max_epochs\": 50,\n",
    "    \"accelerator\": \"auto\",\n",
    "    \"callbacks\": callbacks,\n",
    "    }\n",
    "\n",
    "    common_model_args = {\n",
    "        \"optimizer_kwargs\": {'lr': lr},\n",
    "        \"pl_trainer_kwargs\": pl_trainer_kwargs,\n",
    "        \"lr_scheduler_cls\": lr_scheduler_cls,\n",
    "        \"lr_scheduler_kwargs\": config.lr_scheduler_kwargs,\n",
    "        \"likelihood\": None,  # use a likelihood for probabilistic forecasts\n",
    "        \"save_checkpoints\": True,  # checkpoint to retrieve the best performing model state,\n",
    "        \"force_reset\": True,\n",
    "        \"random_state\": 42,\n",
    "\n",
    "    }\n",
    "    # build the BlockRNNModel model\n",
    "    model = BlockRNNModel(model = \"LSTM\",\n",
    "                                input_chunk_length= in_len,\n",
    "                                output_chunk_length = out_len,\n",
    "                                n_rnn_layers = n_rnn_layers,\n",
    "                                hidden_dim = hidden_dim,\n",
    "                                batch_size = batch_size,\n",
    "                                model_name=\"BlockRNNModel\", \n",
    "                                dropout = dropout,\n",
    "                                **common_model_args)\n",
    "    return model\n",
    "\n",
    "def create_rnn_model(trial):\n",
    "    # select input and output chunk lengths\n",
    "    in_len = trial.suggest_categorical(\"input_chunk_length\", [12, 24, 36, 48, 96])\n",
    "    out_len =  in_len-1\n",
    "    batch_size = trial.suggest_categorical('batch_size', [32, 96, 128, 256])\n",
    "    # Other hyperparameters\n",
    "\n",
    "    n_rnn_layers = trial.suggest_int(\"n_rnn_layers\", 2, 5)\n",
    "    hidden_dim =  trial.suggest_int(\"hidden_dim\", 20, 40)\n",
    "    dropout = trial.suggest_categorical(\"dropout\", [0.05, 0.1, 0.15, 0.2, 0.25])\n",
    "    lr = trial.suggest_float(\"lr\", 5e-5, 1e-3, log=True)\n",
    "    # reproducibility\n",
    "    torch.manual_seed(42)\n",
    "\n",
    "\n",
    "    pruner = PyTorchLightningPruningCallback(trial, monitor=\"val_loss\")\n",
    "    early_stopper = EarlyStopping(\"val_loss\", min_delta=0.0008, patience=2, verbose=False)\n",
    "    callbacks = [pruner, early_stopper]\n",
    "\n",
    "    # detect if a GPU is available\n",
    "    if torch.cuda.is_available():\n",
    "        num_workers = 8\n",
    "    else:\n",
    "        num_workers = 0\n",
    "\n",
    "    pl_trainer_kwargs = {\n",
    "    \"gradient_clip_val\": 1,\n",
    "    \"max_epochs\": 50,\n",
    "    \"accelerator\": \"auto\",\n",
    "    \"callbacks\": callbacks,\n",
    "    }\n",
    "\n",
    "    common_model_args = {\n",
    "        \"optimizer_kwargs\": {'lr': lr},\n",
    "        \"pl_trainer_kwargs\": pl_trainer_kwargs,\n",
    "        \"lr_scheduler_cls\": lr_scheduler_cls,\n",
    "        \"lr_scheduler_kwargs\": config.lr_scheduler_kwargs,\n",
    "        \"likelihood\": None,  # use a likelihood for probabilistic forecasts\n",
    "        \"save_checkpoints\": True,  # checkpoint to retrieve the best performing model state,\n",
    "        \"force_reset\": True,\n",
    "        \"batch_size\": batch_size,\n",
    "        \"random_state\": 42,\n",
    "\n",
    "    }\n",
    "\n",
    "    # build the BlockRNNModel model\n",
    "    model = RNNModel(model = \"LSTM\",\n",
    "                                input_chunk_length= in_len,\n",
    "                                output_chunk_length = out_len,\n",
    "                                n_rnn_layers = n_rnn_layers,\n",
    "                                hidden_dim = hidden_dim,\n",
    "                                model_name=\"RNNModel\", \n",
    "                                dropout = dropout,\n",
    "                                **common_model_args)\n",
    "    return model\n",
    "\n",
    "def create_tcn_model(trial):\n",
    "    in_len = trial.suggest_categorical(\"input_chunk_length\", [12, 24, 36, 48, 96])\n",
    "    out_len =  in_len-1\n",
    "    batch_size = trial.suggest_categorical('batch_size', [32, 96, 128, 256])\n",
    "    # Other hyperparameters\n",
    "    kernel_size = trial.suggest_int(\"kernel_size\", 2, 5)\n",
    "    num_filters = trial.suggest_int(\"num_filters\", 2, 6)\n",
    "    weight_norm = trial.suggest_categorical(\"weight_norm\", [False, True])\n",
    "    dilation_base = trial.suggest_int(\"dilation_base\", 2, 4)\n",
    "    dropout = trial.suggest_categorical(\"dropout\", [0.05, 0.1, 0.15, 0.2, 0.25])\n",
    "    lr = trial.suggest_float(\"lr\", 5e-5, 1e-3, log=True)\n",
    "    # reproducibility\n",
    "    torch.manual_seed(42)\n",
    "\n",
    "\n",
    "    pruner = PyTorchLightningPruningCallback(trial, monitor=\"val_loss\")\n",
    "    early_stopper = EarlyStopping(\"val_loss\", min_delta=0.0008, patience=2, verbose=False)\n",
    "    callbacks = [pruner, early_stopper]\n",
    "\n",
    "\n",
    "\n",
    "    pl_trainer_kwargs = {\n",
    "    \"gradient_clip_val\": 1,\n",
    "    \"max_epochs\": 50,\n",
    "    \"accelerator\": \"auto\",\n",
    "    \"callbacks\": callbacks,\n",
    "    }\n",
    "\n",
    "    common_model_args = {\n",
    "        \"optimizer_kwargs\": {'lr': lr},\n",
    "        \"pl_trainer_kwargs\": pl_trainer_kwargs,\n",
    "        \"lr_scheduler_cls\": lr_scheduler_cls,\n",
    "        \"lr_scheduler_kwargs\": config.lr_scheduler_kwargs,\n",
    "        \"likelihood\": None,  # use a likelihood for probabilistic forecasts\n",
    "        \"save_checkpoints\": True,  # checkpoint to retrieve the best performing model state,\n",
    "        \"force_reset\": True,\n",
    "        \"batch_size\": batch_size,\n",
    "        \"random_state\": 42,\n",
    "\n",
    "    }\n",
    "\n",
    "    # build the TCN model\n",
    "    model = TCNModel(\n",
    "    input_chunk_length= in_len,\n",
    "    output_chunk_length = out_len,\n",
    "    dilation_base = dilation_base,\n",
    "    weight_norm = weight_norm,\n",
    "    kernel_size = kernel_size,\n",
    "    num_filters = num_filters,\n",
    "    model_name = 'TCNModel',\n",
    "    dropout = dropout,\n",
    "    **common_model_args\n",
    "    )\n",
    "\n",
    "    return model\n",
    "\n",
    "def create_transformer_model(trial):\n",
    "    in_len = trial.suggest_categorical(\"input_chunk_length\", [12, 24, 36, 48, 96])\n",
    "    out_len =  in_len-1\n",
    "    batch_size = trial.suggest_categorical('batch_size', [32, 96, 128, 256])\n",
    "\n",
    "    # Other hyperparameters\n",
    "\n",
    "    d_model=trial.suggest_categorical('d_model', [8,12,16])\n",
    "    if d_model == 8:\n",
    "        nhead=4\n",
    "    elif d_model == 12:\n",
    "        nhead=6\n",
    "    elif d_model == 16:\n",
    "        nhead=8\n",
    "    num_encoder_layers=trial.suggest_categorical('num_encoder_layers', [2,4])\n",
    "    num_decoder_layers=trial.suggest_categorical('num_decoder_layers', [2,4])\n",
    "    dim_feedforward=trial.suggest_categorical('dim_feedforward', [64, 128, 256])\n",
    "    dropout = trial.suggest_categorical(\"dropout\", [0.05, 0.1, 0.15, 0.2, 0.25])\n",
    "    lr = trial.suggest_float(\"lr\", 5e-5, 1e-3, log=True)\n",
    "    # reproducibility\n",
    "    torch.manual_seed(42)\n",
    "\n",
    "\n",
    "    pruner = PyTorchLightningPruningCallback(trial, monitor=\"val_loss\")\n",
    "    early_stopper = EarlyStopping(\"val_loss\", min_delta=0.0008, patience=2, verbose=False)\n",
    "    callbacks = [pruner, early_stopper]\n",
    "\n",
    "\n",
    "\n",
    "    pl_trainer_kwargs = {\n",
    "    \"gradient_clip_val\": 1,\n",
    "    \"max_epochs\": 50,\n",
    "    \"accelerator\": \"auto\",\n",
    "    \"callbacks\": callbacks,\n",
    "    }\n",
    "\n",
    "    common_model_args = {\n",
    "        \"optimizer_kwargs\": {'lr': lr},\n",
    "        \"pl_trainer_kwargs\": pl_trainer_kwargs,\n",
    "        \"lr_scheduler_cls\": lr_scheduler_cls,\n",
    "        \"lr_scheduler_kwargs\": config.lr_scheduler_kwargs,\n",
    "        \"likelihood\": None,  # use a likelihood for probabilistic forecasts\n",
    "        \"save_checkpoints\": True,  # checkpoint to retrieve the best performing model state,\n",
    "        \"force_reset\": True,\n",
    "        \"batch_size\": batch_size,\n",
    "        \"random_state\": 42,\n",
    "\n",
    "    }\n",
    "\n",
    "    # build the NBetas model\n",
    "    model = TransformerModel(\n",
    "    input_chunk_length=in_len,\n",
    "    output_chunk_length=out_len,\n",
    "    d_model=d_model,\n",
    "    nhead=nhead,\n",
    "    num_encoder_layers=num_encoder_layers,\n",
    "    num_decoder_layers=num_decoder_layers,\n",
    "    dim_feedforward=dim_feedforward,\n",
    "    dropout=dropout,\n",
    "    activation=\"relu\",\n",
    "    model_name = 'TransformerModel',\n",
    "    **common_model_args,\n",
    ")\n",
    "    \n",
    "    return model"
   ]
  },
  {
   "cell_type": "code",
   "execution_count": 12,
   "metadata": {},
   "outputs": [],
   "source": [
    "VAL_LEN = 96\n",
    "\n",
    "def objective_tcn(trial):\n",
    "    # select input and output chunk lengths\n",
    "    model = create_tcn_model(trial)\n",
    "        # detect if a GPU is available\n",
    "    if torch.cuda.is_available():\n",
    "        num_workers = 8\n",
    "    else:\n",
    "        num_workers = 0\n",
    "\n",
    "    series = create_series(dataframe)\n",
    "\n",
    "    # when validating during training, we can use a slightly longer validation\n",
    "    # set which also contains the first input_chunk_length time steps\n",
    "    model_val_set = val\n",
    "\n",
    "    # train the model\n",
    "    model.fit(\n",
    "        series=train,\n",
    "        val_series=model_val_set,\n",
    "        num_loader_workers=num_workers,\n",
    "    )\n",
    "\n",
    "    # reload best model over course of training\n",
    "    models[model.model_name] = TCNModel.load_from_checkpoint(\"TCNModel\", best=True)\n",
    "\n",
    "    # Evaluate how good it is on the validation set, using sMAPE\n",
    "    preds = model.predict(series=train, n=VAL_LEN)\n",
    "    smapes = rmse(val['dust'], preds['dust'], n_jobs=-1, verbose=True)\n",
    "    # smape_val = np.mean(smapes)\n",
    "    # smape_val = smapes\n",
    "\n",
    "    return smapes if smapes != np.nan else float(\"inf\")\n",
    "\n",
    "\n",
    "def objective_block_rnn(trial):\n",
    "    model = create_block_rnn_model(trial)\n",
    "    # when validating during training, we can use a slightly longer validation\n",
    "    # set which also contains the first input_chunk_length time steps\n",
    "        # detect if a GPU is available\n",
    "    if torch.cuda.is_available():\n",
    "        num_workers = 8\n",
    "    else:\n",
    "        num_workers = 0\n",
    "    model_val_set = val\n",
    "    # train the model\n",
    "    model.fit(\n",
    "        series=train,\n",
    "        val_series=model_val_set,\n",
    "        num_loader_workers=num_workers,\n",
    "    )\n",
    "\n",
    "    # reload best model over course of training\n",
    "    model = BlockRNNModel.load_from_checkpoint(\"BlockRNNModel\", best=True)\n",
    "\n",
    "    # Evaluate how good it is on the validation set, using sMAPE\n",
    "    preds = model.predict(series=train, n=VAL_LEN)\n",
    "    smapes = rmse(val['dust'], preds['dust'], n_jobs=-1, verbose=True)\n",
    "    smape_val = smapes\n",
    "\n",
    "    return smape_val if smape_val != np.nan else float(\"inf\")\n",
    "\n",
    "def objective_rnn(trial):\n",
    "    model = create_rnn_model(trial)\n",
    "    if torch.cuda.is_available():\n",
    "        num_workers = 8\n",
    "    else:\n",
    "        num_workers = 0\n",
    "\n",
    "    # set which also contains the first input_chunk_length time steps\n",
    "    model_val_set = val\n",
    "    # train the model\n",
    "    model.fit(\n",
    "        series=train,\n",
    "        val_series=model_val_set,\n",
    "        num_loader_workers=num_workers,\n",
    "    )\n",
    "\n",
    "    # reload best model over course of training\n",
    "    models[model.model_name] = RNNModel.load_from_checkpoint(\"RNNModel\", best=True)\n",
    "\n",
    "    # Evaluate how good it is on the validation set, using sMAPE\n",
    "    preds = model.predict(series=train, n=VAL_LEN)\n",
    "    smapes = rmse(val['dust'], preds['dust'], n_jobs=-1, verbose=True)\n",
    "    smape_val = smapes\n",
    "\n",
    "    return smape_val if smape_val != np.nan else float(\"inf\")\n",
    "\n",
    "\n",
    "def objective_nbeats(trial):\n",
    "    # select input and output chunk lengths\n",
    "    in_len = trial.suggest_categorical(\"input_chunk_length\", [12, 24, 36, 48, 96])\n",
    "    out_len =  in_len-1\n",
    "    batch_size = trial.suggest_categorical('batch_size', [32, 96, 256])\n",
    "\n",
    "    # Other hyperparameters\n",
    "\n",
    "    num_blocks=trial.suggest_int('num_blocks', 2, 4)\n",
    "    num_layers=trial.suggest_int('num_layers', 2, 5),\n",
    "    layer_widths=trial.suggest_categorical('layer_widths', [256,512])\n",
    "    dropout = trial.suggest_categorical(\"dropout\", [0.05, 0.1, 0.15, 0.2, 0.25])\n",
    "    lr = trial.suggest_float(\"lr\", 5e-5, 1e-3, log=True)\n",
    "    # reproducibility\n",
    "    torch.manual_seed(42)\n",
    "\n",
    "\n",
    "    pruner = PyTorchLightningPruningCallback(trial, monitor=\"val_loss\")\n",
    "    early_stopper = EarlyStopping(\"val_loss\", min_delta=0.0008, patience=2, verbose=False)\n",
    "    callbacks = [pruner, early_stopper]\n",
    "\n",
    "    # detect if a GPU is available\n",
    "    if torch.cuda.is_available():\n",
    "        num_workers = 8\n",
    "    else:\n",
    "        num_workers = 0\n",
    "\n",
    "    pl_trainer_kwargs = {\n",
    "    \"gradient_clip_val\": 1,\n",
    "    \"max_epochs\": 50,\n",
    "    \"accelerator\": \"auto\",\n",
    "    \"callbacks\": callbacks,\n",
    "    }\n",
    "\n",
    "    common_model_args = {\n",
    "        \"optimizer_kwargs\": {'lr': lr},\n",
    "        \"pl_trainer_kwargs\": pl_trainer_kwargs,\n",
    "        \"lr_scheduler_cls\": lr_scheduler_cls,\n",
    "        \"lr_scheduler_kwargs\": config.lr_scheduler_kwargs,\n",
    "        \"likelihood\": None,  # use a likelihood for probabilistic forecasts\n",
    "        \"save_checkpoints\": True,  # checkpoint to retrieve the best performing model state,\n",
    "        \"force_reset\": True,\n",
    "        \"batch_size\": batch_size,\n",
    "        \"random_state\": 42,\n",
    "\n",
    "    }\n",
    "\n",
    "    # build the NBetas model\n",
    "    model = NBEATSModel(\n",
    "        generic_architecture=False,\n",
    "        num_blocks=num_blocks,\n",
    "        num_layers=num_layers,\n",
    "        layer_widths=layer_widths,\n",
    "        loss_fn=torch.nn.MSELoss(),\n",
    "        input_chunk_length= in_len,\n",
    "        output_chunk_length = out_len,\n",
    "        model_name = 'NBEATSModel',\n",
    "        dropout=dropout,\n",
    "        **common_model_args,\n",
    "\n",
    ")\n",
    "    \n",
    "\n",
    "    series = create_series(dataframe)\n",
    "\n",
    "    # when validating during training, we can use a slightly longer validation\n",
    "    # set which also contains the first input_chunk_length time steps\n",
    "    model_val_set = val\n",
    "    # train the model\n",
    "    model.fit(\n",
    "        series=train,\n",
    "        val_series=model_val_set,\n",
    "        num_loader_workers=num_workers,\n",
    "    )\n",
    "\n",
    "    # reload best model over course of training\n",
    "    models[model.model_name] = NBEATSModel.load_from_checkpoint(\"NBEATSModel\", best=True)\n",
    "\n",
    "    # Evaluate how good it is on the validation set, using sMAPE\n",
    "    preds = model.predict(series=train, n=VAL_LEN)\n",
    "    smapes = rmse(val['dust'], preds['dust'], n_jobs=-1, verbose=True)\n",
    "    smape_val = np.mean(smapes)\n",
    "\n",
    "    return smape_val if smape_val != np.nan else float(\"inf\")\n",
    "\n",
    "\n",
    "def objective_transformer(trial):\n",
    "    # select input and output chunk lengths\n",
    "    model = create_transformer_model(trial)\n",
    "    series = create_series(dataframe)\n",
    "\n",
    "    # when validating during training, we can use a slightly longer validation\n",
    "    # set which also contains the first input_chunk_length time steps\n",
    "    model_val_set = val\n",
    "        # detect if a GPU is available\n",
    "    if torch.cuda.is_available():\n",
    "        num_workers = 8\n",
    "    else:\n",
    "        num_workers = 0\n",
    "    # train the model\n",
    "    model.fit(\n",
    "        series=train,\n",
    "        val_series=model_val_set,\n",
    "        num_loader_workers=num_workers,\n",
    "    )\n",
    "\n",
    "    # reload best model over course of training\n",
    "    models[model.model_name] = TransformerModel.load_from_checkpoint(\"TransformerModel\", best=True)\n",
    "\n",
    "    # Evaluate how good it is on the validation set, using sMAPE\n",
    "    preds = model.predict(series=train, n=VAL_LEN)\n",
    "    smapes = rmse(val['dust'], preds['dust'], n_jobs=-1, verbose=True)\n",
    "    smape_val = smapes\n",
    "\n",
    "    return smape_val if smape_val != np.nan else float(\"inf\")\n"
   ]
  },
  {
   "cell_type": "code",
   "execution_count": null,
   "metadata": {},
   "outputs": [],
   "source": [
    "def evaluate_model(model, test):\n",
    "    result_accumulator = {}\n",
    "    print(f'For model {model.model_name}')\n",
    "    pred_series = model.historical_forecasts(series=test, \n",
    "                                        past_covariates=None,\n",
    "                                        future_covariates=None,\n",
    "                                        retrain=False,\n",
    "                                        verbose=True, \n",
    "                                        forecast_horizon=35\n",
    "                                        )\n",
    "    test_dust = test['dust']\n",
    "    pred_dust = pred_series['dust']\n",
    "    result_accumulator[model.model_name] = {\n",
    "        \"mae\": mae(test_dust, pred_dust),\n",
    "        \"mse\": mse(test_dust, pred_dust),\n",
    "        \"mape\": mape(test_dust, pred_dust),\n",
    "        \"rmse\": rmse(test_dust, pred_dust)\n",
    "    }\n",
    "    return result_accumulator, pred_series"
   ]
  },
  {
   "cell_type": "code",
   "execution_count": null,
   "metadata": {},
   "outputs": [],
   "source": [
    "def train_model(model, val):\n",
    "    print('model to train', model)\n",
    "    model.fit(\n",
    "        series=train,\n",
    "            val_series=val,\n",
    "            verbose=True,\n",
    "            )\n",
    "    model.save(f'../model_files/{model.model_name}.pt')\n",
    "    return model\n"
   ]
  },
  {
   "cell_type": "code",
   "execution_count": null,
   "metadata": {},
   "outputs": [],
   "source": [
    "def logging(model, test):\n",
    "    with mlflow.start_run(run_name=model.model_name):\n",
    "    # Log the hyperparameters\n",
    "        mlflow.log_params(model.model_params)\n",
    "\n",
    "        # Log the loss metric\n",
    "        eval_results, pred_series = evaluate_model(model, test)\n",
    "        print(eval_results)\n",
    "        for metric, result in eval_results[model.model_name].items():\n",
    "            mlflow.log_metric(metric, result)\n",
    "\n",
    "        # Set a tag that we can use to remind ourselves what this run was for\n",
    "        mlflow.set_tag(\"Model_Name\", model.model_name)\n",
    "\n",
    "\n",
    "        # Log the model\n",
    "        mlflow.log_artifact(f'../model_files/{model.model_name}.pt')\n",
    "\n",
    "        fig, ax = plt.subplots(figsize=(20, 5))\n",
    "        test['dust'].plot(label = 'Actual', ax = ax)\n",
    "        pred_series['dust'].plot(label=model.model_name, ax=ax)\n",
    "\n",
    "        mlflow.log_figure(fig, f'{model.model_name}_dust.png')\n",
    "        plt.savefig(f'../plots/{model.model_name}_dust.png')"
   ]
  },
  {
   "cell_type": "code",
   "execution_count": null,
   "metadata": {},
   "outputs": [],
   "source": [
    "\n",
    "def print_callback(study, trial):\n",
    "    print(f\"Current value: {trial.value}, Current params: {trial.params}\")\n",
    "    print(f\"Best value: {study.best_value}, Best params: {study.best_trial.params}\")\n",
    "\n",
    "study = optuna.create_study(direction=\"minimize\")\n",
    "\n",
    "study.optimize(objective_block_rnn, n_trials=50, callbacks=[print_callback])"
   ]
  },
  {
   "cell_type": "code",
   "execution_count": null,
   "metadata": {},
   "outputs": [],
   "source": [
    "best_model = create_block_rnn_model(study.best_trial)\n",
    "best_model = train_model(best_model, val)\n",
    "logging(best_model, test)"
   ]
  },
  {
   "cell_type": "code",
   "execution_count": 13,
   "metadata": {},
   "outputs": [
    {
     "name": "stderr",
     "output_type": "stream",
     "text": [
      "[I 2024-01-31 23:22:04,957] A new study created in memory with name: no-name-3b36d58c-5df1-4046-a2fe-7931fe9d887d\n",
      "GPU available: True (cuda), used: True\n",
      "TPU available: False, using: 0 TPU cores\n",
      "IPU available: False, using: 0 IPUs\n",
      "HPU available: False, using: 0 HPUs\n",
      "LOCAL_RANK: 0 - CUDA_VISIBLE_DEVICES: [0]\n",
      "\n",
      "  | Name          | Type             | Params\n",
      "---------------------------------------------------\n",
      "0 | criterion     | MSELoss          | 0     \n",
      "1 | train_metrics | MetricCollection | 0     \n",
      "2 | val_metrics   | MetricCollection | 0     \n",
      "3 | rnn           | LSTM             | 21.1 K\n",
      "4 | fc            | Sequential       | 7.5 K \n",
      "---------------------------------------------------\n",
      "28.7 K    Trainable params\n",
      "0         Non-trainable params\n",
      "28.7 K    Total params\n",
      "0.115     Total estimated model params size (MB)\n"
     ]
    },
    {
     "data": {
      "application/vnd.jupyter.widget-view+json": {
       "model_id": "9a7606ad7c7c4bf78e2bd32124e6d29a",
       "version_major": 2,
       "version_minor": 0
      },
      "text/plain": [
       "Sanity Checking: |          | 0/? [00:00<?, ?it/s]"
      ]
     },
     "metadata": {},
     "output_type": "display_data"
    },
    {
     "data": {
      "application/vnd.jupyter.widget-view+json": {
       "model_id": "80b9e548879f4f23bc1611cbad107369",
       "version_major": 2,
       "version_minor": 0
      },
      "text/plain": [
       "Training: |          | 0/? [00:00<?, ?it/s]"
      ]
     },
     "metadata": {},
     "output_type": "display_data"
    },
    {
     "data": {
      "application/vnd.jupyter.widget-view+json": {
       "model_id": "e4b23d131fc24002a22eda0fe96f685c",
       "version_major": 2,
       "version_minor": 0
      },
      "text/plain": [
       "Validation: |          | 0/? [00:00<?, ?it/s]"
      ]
     },
     "metadata": {},
     "output_type": "display_data"
    },
    {
     "data": {
      "application/vnd.jupyter.widget-view+json": {
       "model_id": "c7ce67cc4d914257a79f55ccbd217e06",
       "version_major": 2,
       "version_minor": 0
      },
      "text/plain": [
       "Validation: |          | 0/? [00:00<?, ?it/s]"
      ]
     },
     "metadata": {},
     "output_type": "display_data"
    },
    {
     "data": {
      "application/vnd.jupyter.widget-view+json": {
       "model_id": "f07e68163fed4e658f875ae0d15926ac",
       "version_major": 2,
       "version_minor": 0
      },
      "text/plain": [
       "Validation: |          | 0/? [00:00<?, ?it/s]"
      ]
     },
     "metadata": {},
     "output_type": "display_data"
    },
    {
     "data": {
      "application/vnd.jupyter.widget-view+json": {
       "model_id": "af450991fced4973bed1b3772a820566",
       "version_major": 2,
       "version_minor": 0
      },
      "text/plain": [
       "Validation: |          | 0/? [00:00<?, ?it/s]"
      ]
     },
     "metadata": {},
     "output_type": "display_data"
    },
    {
     "data": {
      "application/vnd.jupyter.widget-view+json": {
       "model_id": "cc03e0ba2fa84d13bf094ef33f55e620",
       "version_major": 2,
       "version_minor": 0
      },
      "text/plain": [
       "Validation: |          | 0/? [00:00<?, ?it/s]"
      ]
     },
     "metadata": {},
     "output_type": "display_data"
    },
    {
     "data": {
      "application/vnd.jupyter.widget-view+json": {
       "model_id": "d2598a451ea84e09b98c4b79622f0b8f",
       "version_major": 2,
       "version_minor": 0
      },
      "text/plain": [
       "Validation: |          | 0/? [00:00<?, ?it/s]"
      ]
     },
     "metadata": {},
     "output_type": "display_data"
    },
    {
     "data": {
      "application/vnd.jupyter.widget-view+json": {
       "model_id": "1a2927bed4e54e4ba36aff76f026ff77",
       "version_major": 2,
       "version_minor": 0
      },
      "text/plain": [
       "Validation: |          | 0/? [00:00<?, ?it/s]"
      ]
     },
     "metadata": {},
     "output_type": "display_data"
    },
    {
     "data": {
      "application/vnd.jupyter.widget-view+json": {
       "model_id": "59ef66ec99d5420ba23e4ef6a60c4c87",
       "version_major": 2,
       "version_minor": 0
      },
      "text/plain": [
       "Validation: |          | 0/? [00:00<?, ?it/s]"
      ]
     },
     "metadata": {},
     "output_type": "display_data"
    },
    {
     "data": {
      "application/vnd.jupyter.widget-view+json": {
       "model_id": "1a8505450b2f4340a937dedc22303ef2",
       "version_major": 2,
       "version_minor": 0
      },
      "text/plain": [
       "Validation: |          | 0/? [00:00<?, ?it/s]"
      ]
     },
     "metadata": {},
     "output_type": "display_data"
    },
    {
     "data": {
      "application/vnd.jupyter.widget-view+json": {
       "model_id": "577173596a6b4d05a578a398808902db",
       "version_major": 2,
       "version_minor": 0
      },
      "text/plain": [
       "Validation: |          | 0/? [00:00<?, ?it/s]"
      ]
     },
     "metadata": {},
     "output_type": "display_data"
    },
    {
     "data": {
      "application/vnd.jupyter.widget-view+json": {
       "model_id": "752278069a0b43579326b6d924b4f1dd",
       "version_major": 2,
       "version_minor": 0
      },
      "text/plain": [
       "Validation: |          | 0/? [00:00<?, ?it/s]"
      ]
     },
     "metadata": {},
     "output_type": "display_data"
    },
    {
     "name": "stderr",
     "output_type": "stream",
     "text": [
      "GPU available: True (cuda), used: True\n",
      "TPU available: False, using: 0 TPU cores\n",
      "IPU available: False, using: 0 IPUs\n",
      "HPU available: False, using: 0 HPUs\n",
      "LOCAL_RANK: 0 - CUDA_VISIBLE_DEVICES: [0]\n"
     ]
    },
    {
     "data": {
      "application/vnd.jupyter.widget-view+json": {
       "model_id": "5cf5fd24ecae47bc99f2a8ce709468f2",
       "version_major": 2,
       "version_minor": 0
      },
      "text/plain": [
       "Predicting: |          | 0/? [00:00<?, ?it/s]"
      ]
     },
     "metadata": {},
     "output_type": "display_data"
    },
    {
     "data": {
      "application/vnd.jupyter.widget-view+json": {
       "model_id": "84dd51acb5f746b4991344bd60c277e5",
       "version_major": 2,
       "version_minor": 0
      },
      "text/plain": [
       "  0%|          | 0/1 [00:00<?, ?it/s]"
      ]
     },
     "metadata": {},
     "output_type": "display_data"
    },
    {
     "name": "stderr",
     "output_type": "stream",
     "text": [
      "[I 2024-01-31 23:22:31,707] Trial 0 finished with value: 0.027648458257317543 and parameters: {'input_chunk_length': 24, 'batch_size': 256, 'n_rnn_layers': 2, 'hidden_dim': 40, 'dropout': 0.05, 'lr': 0.00011632992871993419}. Best is trial 0 with value: 0.027648458257317543.\n",
      "GPU available: True (cuda), used: True\n",
      "TPU available: False, using: 0 TPU cores\n",
      "IPU available: False, using: 0 IPUs\n",
      "HPU available: False, using: 0 HPUs\n",
      "LOCAL_RANK: 0 - CUDA_VISIBLE_DEVICES: [0]\n",
      "\n",
      "  | Name          | Type             | Params\n",
      "---------------------------------------------------\n",
      "0 | criterion     | MSELoss          | 0     \n",
      "1 | train_metrics | MetricCollection | 0     \n",
      "2 | val_metrics   | MetricCollection | 0     \n",
      "3 | rnn           | LSTM             | 34.2 K\n",
      "4 | fc            | Sequential       | 31.2 K\n",
      "---------------------------------------------------\n",
      "65.4 K    Trainable params\n",
      "0         Non-trainable params\n",
      "65.4 K    Total params\n",
      "0.262     Total estimated model params size (MB)\n"
     ]
    },
    {
     "name": "stdout",
     "output_type": "stream",
     "text": [
      "Current value: 0.027648458257317543, Current params: {'input_chunk_length': 24, 'batch_size': 256, 'n_rnn_layers': 2, 'hidden_dim': 40, 'dropout': 0.05, 'lr': 0.00011632992871993419}\n",
      "Best value: 0.027648458257317543, Best params: {'input_chunk_length': 24, 'batch_size': 256, 'n_rnn_layers': 2, 'hidden_dim': 40, 'dropout': 0.05, 'lr': 0.00011632992871993419}\n"
     ]
    },
    {
     "data": {
      "application/vnd.jupyter.widget-view+json": {
       "model_id": "467cb68757234056b6e63a2cfb99d237",
       "version_major": 2,
       "version_minor": 0
      },
      "text/plain": [
       "Sanity Checking: |          | 0/? [00:00<?, ?it/s]"
      ]
     },
     "metadata": {},
     "output_type": "display_data"
    },
    {
     "data": {
      "application/vnd.jupyter.widget-view+json": {
       "model_id": "360a70b1bb4b49c189cddf28bef7f4d8",
       "version_major": 2,
       "version_minor": 0
      },
      "text/plain": [
       "Training: |          | 0/? [00:00<?, ?it/s]"
      ]
     },
     "metadata": {},
     "output_type": "display_data"
    },
    {
     "data": {
      "application/vnd.jupyter.widget-view+json": {
       "model_id": "ab8078415d084968b55978278f46d8e7",
       "version_major": 2,
       "version_minor": 0
      },
      "text/plain": [
       "Validation: |          | 0/? [00:00<?, ?it/s]"
      ]
     },
     "metadata": {},
     "output_type": "display_data"
    },
    {
     "data": {
      "application/vnd.jupyter.widget-view+json": {
       "model_id": "7666270163544a528fdc00a968937e27",
       "version_major": 2,
       "version_minor": 0
      },
      "text/plain": [
       "Validation: |          | 0/? [00:00<?, ?it/s]"
      ]
     },
     "metadata": {},
     "output_type": "display_data"
    },
    {
     "data": {
      "application/vnd.jupyter.widget-view+json": {
       "model_id": "bb46122f3a884808a064ad1457e1a120",
       "version_major": 2,
       "version_minor": 0
      },
      "text/plain": [
       "Validation: |          | 0/? [00:00<?, ?it/s]"
      ]
     },
     "metadata": {},
     "output_type": "display_data"
    },
    {
     "data": {
      "application/vnd.jupyter.widget-view+json": {
       "model_id": "9995442c7879413ca9d275809cb9ebfa",
       "version_major": 2,
       "version_minor": 0
      },
      "text/plain": [
       "Validation: |          | 0/? [00:00<?, ?it/s]"
      ]
     },
     "metadata": {},
     "output_type": "display_data"
    },
    {
     "data": {
      "application/vnd.jupyter.widget-view+json": {
       "model_id": "c2ea663163274b658c717a932542c4ef",
       "version_major": 2,
       "version_minor": 0
      },
      "text/plain": [
       "Validation: |          | 0/? [00:00<?, ?it/s]"
      ]
     },
     "metadata": {},
     "output_type": "display_data"
    },
    {
     "data": {
      "application/vnd.jupyter.widget-view+json": {
       "model_id": "aa7a8282521a47e28e83670f491be661",
       "version_major": 2,
       "version_minor": 0
      },
      "text/plain": [
       "Validation: |          | 0/? [00:00<?, ?it/s]"
      ]
     },
     "metadata": {},
     "output_type": "display_data"
    },
    {
     "data": {
      "application/vnd.jupyter.widget-view+json": {
       "model_id": "49996c3ef7e34cbeb39dbada9c297078",
       "version_major": 2,
       "version_minor": 0
      },
      "text/plain": [
       "Validation: |          | 0/? [00:00<?, ?it/s]"
      ]
     },
     "metadata": {},
     "output_type": "display_data"
    },
    {
     "data": {
      "application/vnd.jupyter.widget-view+json": {
       "model_id": "5aabcba024444f128d250d108bb80fe5",
       "version_major": 2,
       "version_minor": 0
      },
      "text/plain": [
       "Validation: |          | 0/? [00:00<?, ?it/s]"
      ]
     },
     "metadata": {},
     "output_type": "display_data"
    },
    {
     "data": {
      "application/vnd.jupyter.widget-view+json": {
       "model_id": "319368b183454d60a6b43e782e547d07",
       "version_major": 2,
       "version_minor": 0
      },
      "text/plain": [
       "Validation: |          | 0/? [00:00<?, ?it/s]"
      ]
     },
     "metadata": {},
     "output_type": "display_data"
    },
    {
     "name": "stderr",
     "output_type": "stream",
     "text": [
      "GPU available: True (cuda), used: True\n",
      "TPU available: False, using: 0 TPU cores\n",
      "IPU available: False, using: 0 IPUs\n",
      "HPU available: False, using: 0 HPUs\n",
      "LOCAL_RANK: 0 - CUDA_VISIBLE_DEVICES: [0]\n"
     ]
    },
    {
     "data": {
      "application/vnd.jupyter.widget-view+json": {
       "model_id": "c677f946dbe844f0960e221733bd8b8b",
       "version_major": 2,
       "version_minor": 0
      },
      "text/plain": [
       "Predicting: |          | 0/? [00:00<?, ?it/s]"
      ]
     },
     "metadata": {},
     "output_type": "display_data"
    },
    {
     "data": {
      "application/vnd.jupyter.widget-view+json": {
       "model_id": "eeea7663eac547afab6eab3969f78330",
       "version_major": 2,
       "version_minor": 0
      },
      "text/plain": [
       "  0%|          | 0/1 [00:00<?, ?it/s]"
      ]
     },
     "metadata": {},
     "output_type": "display_data"
    },
    {
     "name": "stderr",
     "output_type": "stream",
     "text": [
      "[I 2024-01-31 23:23:16,820] Trial 1 finished with value: 0.016158880665898323 and parameters: {'input_chunk_length': 96, 'batch_size': 96, 'n_rnn_layers': 3, 'hidden_dim': 40, 'dropout': 0.2, 'lr': 0.00014316645339867043}. Best is trial 1 with value: 0.016158880665898323.\n",
      "GPU available: True (cuda), used: True\n",
      "TPU available: False, using: 0 TPU cores\n",
      "IPU available: False, using: 0 IPUs\n",
      "HPU available: False, using: 0 HPUs\n",
      "LOCAL_RANK: 0 - CUDA_VISIBLE_DEVICES: [0]\n",
      "\n",
      "  | Name          | Type             | Params\n",
      "---------------------------------------------------\n",
      "0 | criterion     | MSELoss          | 0     \n",
      "1 | train_metrics | MetricCollection | 0     \n",
      "2 | val_metrics   | MetricCollection | 0     \n",
      "3 | rnn           | LSTM             | 21.1 K\n",
      "4 | fc            | Sequential       | 3.6 K \n",
      "---------------------------------------------------\n",
      "24.7 K    Trainable params\n",
      "0         Non-trainable params\n",
      "24.7 K    Total params\n",
      "0.099     Total estimated model params size (MB)\n"
     ]
    },
    {
     "name": "stdout",
     "output_type": "stream",
     "text": [
      "Current value: 0.016158880665898323, Current params: {'input_chunk_length': 96, 'batch_size': 96, 'n_rnn_layers': 3, 'hidden_dim': 40, 'dropout': 0.2, 'lr': 0.00014316645339867043}\n",
      "Best value: 0.016158880665898323, Best params: {'input_chunk_length': 96, 'batch_size': 96, 'n_rnn_layers': 3, 'hidden_dim': 40, 'dropout': 0.2, 'lr': 0.00014316645339867043}\n"
     ]
    },
    {
     "data": {
      "application/vnd.jupyter.widget-view+json": {
       "model_id": "6c4bb2fd8ae8481889be8008cf0a8563",
       "version_major": 2,
       "version_minor": 0
      },
      "text/plain": [
       "Sanity Checking: |          | 0/? [00:00<?, ?it/s]"
      ]
     },
     "metadata": {},
     "output_type": "display_data"
    },
    {
     "data": {
      "application/vnd.jupyter.widget-view+json": {
       "model_id": "8a6261d9b7c44d73887394bef0db4f47",
       "version_major": 2,
       "version_minor": 0
      },
      "text/plain": [
       "Training: |          | 0/? [00:00<?, ?it/s]"
      ]
     },
     "metadata": {},
     "output_type": "display_data"
    },
    {
     "data": {
      "application/vnd.jupyter.widget-view+json": {
       "model_id": "e42a2f4427284f15a72b528de7675d62",
       "version_major": 2,
       "version_minor": 0
      },
      "text/plain": [
       "Validation: |          | 0/? [00:00<?, ?it/s]"
      ]
     },
     "metadata": {},
     "output_type": "display_data"
    },
    {
     "data": {
      "application/vnd.jupyter.widget-view+json": {
       "model_id": "fab5bb36033b4baa9e077c6bc7c3c33a",
       "version_major": 2,
       "version_minor": 0
      },
      "text/plain": [
       "Validation: |          | 0/? [00:00<?, ?it/s]"
      ]
     },
     "metadata": {},
     "output_type": "display_data"
    },
    {
     "data": {
      "application/vnd.jupyter.widget-view+json": {
       "model_id": "db7b85ba273d47868d571fe1d1ddb389",
       "version_major": 2,
       "version_minor": 0
      },
      "text/plain": [
       "Validation: |          | 0/? [00:00<?, ?it/s]"
      ]
     },
     "metadata": {},
     "output_type": "display_data"
    },
    {
     "data": {
      "application/vnd.jupyter.widget-view+json": {
       "model_id": "2d3ba10947f042288dcf0b32c81aa3b2",
       "version_major": 2,
       "version_minor": 0
      },
      "text/plain": [
       "Validation: |          | 0/? [00:00<?, ?it/s]"
      ]
     },
     "metadata": {},
     "output_type": "display_data"
    },
    {
     "data": {
      "application/vnd.jupyter.widget-view+json": {
       "model_id": "36c5b30c85944a2195a8fcaf5baf7d19",
       "version_major": 2,
       "version_minor": 0
      },
      "text/plain": [
       "Validation: |          | 0/? [00:00<?, ?it/s]"
      ]
     },
     "metadata": {},
     "output_type": "display_data"
    },
    {
     "data": {
      "application/vnd.jupyter.widget-view+json": {
       "model_id": "f5d67247daf2410b914ff334989308f0",
       "version_major": 2,
       "version_minor": 0
      },
      "text/plain": [
       "Validation: |          | 0/? [00:00<?, ?it/s]"
      ]
     },
     "metadata": {},
     "output_type": "display_data"
    },
    {
     "data": {
      "application/vnd.jupyter.widget-view+json": {
       "model_id": "199b098d29b845b4bbf389467bce465a",
       "version_major": 2,
       "version_minor": 0
      },
      "text/plain": [
       "Validation: |          | 0/? [00:00<?, ?it/s]"
      ]
     },
     "metadata": {},
     "output_type": "display_data"
    },
    {
     "data": {
      "application/vnd.jupyter.widget-view+json": {
       "model_id": "5b9cdd1cd8de48d4ad27eff7ce63267a",
       "version_major": 2,
       "version_minor": 0
      },
      "text/plain": [
       "Validation: |          | 0/? [00:00<?, ?it/s]"
      ]
     },
     "metadata": {},
     "output_type": "display_data"
    },
    {
     "data": {
      "application/vnd.jupyter.widget-view+json": {
       "model_id": "112a6043f9864b6ab61fcf1d81e63344",
       "version_major": 2,
       "version_minor": 0
      },
      "text/plain": [
       "Validation: |          | 0/? [00:00<?, ?it/s]"
      ]
     },
     "metadata": {},
     "output_type": "display_data"
    },
    {
     "data": {
      "application/vnd.jupyter.widget-view+json": {
       "model_id": "c7933a8581c34e5faac8fbf40f722fe7",
       "version_major": 2,
       "version_minor": 0
      },
      "text/plain": [
       "Validation: |          | 0/? [00:00<?, ?it/s]"
      ]
     },
     "metadata": {},
     "output_type": "display_data"
    },
    {
     "name": "stderr",
     "output_type": "stream",
     "text": [
      "GPU available: True (cuda), used: True\n",
      "TPU available: False, using: 0 TPU cores\n",
      "IPU available: False, using: 0 IPUs\n",
      "HPU available: False, using: 0 HPUs\n",
      "LOCAL_RANK: 0 - CUDA_VISIBLE_DEVICES: [0]\n"
     ]
    },
    {
     "data": {
      "application/vnd.jupyter.widget-view+json": {
       "model_id": "d1872ec2452d41bf9a79c46a1c0f42c0",
       "version_major": 2,
       "version_minor": 0
      },
      "text/plain": [
       "Predicting: |          | 0/? [00:00<?, ?it/s]"
      ]
     },
     "metadata": {},
     "output_type": "display_data"
    },
    {
     "data": {
      "application/vnd.jupyter.widget-view+json": {
       "model_id": "646e6f04eeb14144818ba6613e1f27d3",
       "version_major": 2,
       "version_minor": 0
      },
      "text/plain": [
       "  0%|          | 0/1 [00:00<?, ?it/s]"
      ]
     },
     "metadata": {},
     "output_type": "display_data"
    },
    {
     "name": "stderr",
     "output_type": "stream",
     "text": [
      "[I 2024-01-31 23:23:52,844] Trial 2 finished with value: 0.07284809648990631 and parameters: {'input_chunk_length': 12, 'batch_size': 128, 'n_rnn_layers': 2, 'hidden_dim': 40, 'dropout': 0.05, 'lr': 5.505801004342001e-05}. Best is trial 1 with value: 0.016158880665898323.\n",
      "GPU available: True (cuda), used: True\n",
      "TPU available: False, using: 0 TPU cores\n",
      "IPU available: False, using: 0 IPUs\n",
      "HPU available: False, using: 0 HPUs\n",
      "LOCAL_RANK: 0 - CUDA_VISIBLE_DEVICES: [0]\n",
      "\n",
      "  | Name          | Type             | Params\n",
      "---------------------------------------------------\n",
      "0 | criterion     | MSELoss          | 0     \n",
      "1 | train_metrics | MetricCollection | 0     \n",
      "2 | val_metrics   | MetricCollection | 0     \n",
      "3 | rnn           | LSTM             | 47.4 K\n",
      "4 | fc            | Sequential       | 11.5 K\n",
      "---------------------------------------------------\n",
      "58.8 K    Trainable params\n",
      "0         Non-trainable params\n",
      "58.8 K    Total params\n",
      "0.235     Total estimated model params size (MB)\n"
     ]
    },
    {
     "name": "stdout",
     "output_type": "stream",
     "text": [
      "Current value: 0.07284809648990631, Current params: {'input_chunk_length': 12, 'batch_size': 128, 'n_rnn_layers': 2, 'hidden_dim': 40, 'dropout': 0.05, 'lr': 5.505801004342001e-05}\n",
      "Best value: 0.016158880665898323, Best params: {'input_chunk_length': 96, 'batch_size': 96, 'n_rnn_layers': 3, 'hidden_dim': 40, 'dropout': 0.2, 'lr': 0.00014316645339867043}\n"
     ]
    },
    {
     "data": {
      "application/vnd.jupyter.widget-view+json": {
       "model_id": "80a988e25c704f0fb4a0f09394a804e2",
       "version_major": 2,
       "version_minor": 0
      },
      "text/plain": [
       "Sanity Checking: |          | 0/? [00:00<?, ?it/s]"
      ]
     },
     "metadata": {},
     "output_type": "display_data"
    },
    {
     "data": {
      "application/vnd.jupyter.widget-view+json": {
       "model_id": "539d1341399c42fd9151e7488b8bf006",
       "version_major": 2,
       "version_minor": 0
      },
      "text/plain": [
       "Training: |          | 0/? [00:00<?, ?it/s]"
      ]
     },
     "metadata": {},
     "output_type": "display_data"
    },
    {
     "data": {
      "application/vnd.jupyter.widget-view+json": {
       "model_id": "04ecd1abeafb4b3daf13c577babe3bec",
       "version_major": 2,
       "version_minor": 0
      },
      "text/plain": [
       "Validation: |          | 0/? [00:00<?, ?it/s]"
      ]
     },
     "metadata": {},
     "output_type": "display_data"
    },
    {
     "data": {
      "application/vnd.jupyter.widget-view+json": {
       "model_id": "47913867566a42e4a7c8a6c6a0b79c77",
       "version_major": 2,
       "version_minor": 0
      },
      "text/plain": [
       "Validation: |          | 0/? [00:00<?, ?it/s]"
      ]
     },
     "metadata": {},
     "output_type": "display_data"
    },
    {
     "data": {
      "application/vnd.jupyter.widget-view+json": {
       "model_id": "bea9cebebc63421a986c68345b21a56b",
       "version_major": 2,
       "version_minor": 0
      },
      "text/plain": [
       "Validation: |          | 0/? [00:00<?, ?it/s]"
      ]
     },
     "metadata": {},
     "output_type": "display_data"
    },
    {
     "data": {
      "application/vnd.jupyter.widget-view+json": {
       "model_id": "ba239a943f7346ef9c9a14cf88848e85",
       "version_major": 2,
       "version_minor": 0
      },
      "text/plain": [
       "Validation: |          | 0/? [00:00<?, ?it/s]"
      ]
     },
     "metadata": {},
     "output_type": "display_data"
    },
    {
     "data": {
      "application/vnd.jupyter.widget-view+json": {
       "model_id": "2e86f5c06f764aaa8fceb12af98a68a6",
       "version_major": 2,
       "version_minor": 0
      },
      "text/plain": [
       "Validation: |          | 0/? [00:00<?, ?it/s]"
      ]
     },
     "metadata": {},
     "output_type": "display_data"
    },
    {
     "data": {
      "application/vnd.jupyter.widget-view+json": {
       "model_id": "7b34622f2ce84933a8323414921521b4",
       "version_major": 2,
       "version_minor": 0
      },
      "text/plain": [
       "Validation: |          | 0/? [00:00<?, ?it/s]"
      ]
     },
     "metadata": {},
     "output_type": "display_data"
    },
    {
     "data": {
      "application/vnd.jupyter.widget-view+json": {
       "model_id": "c58e417fbd3c4b7a86d7afb354c0048a",
       "version_major": 2,
       "version_minor": 0
      },
      "text/plain": [
       "Validation: |          | 0/? [00:00<?, ?it/s]"
      ]
     },
     "metadata": {},
     "output_type": "display_data"
    },
    {
     "data": {
      "application/vnd.jupyter.widget-view+json": {
       "model_id": "1eddf061338d4687bf96f33708f0232e",
       "version_major": 2,
       "version_minor": 0
      },
      "text/plain": [
       "Validation: |          | 0/? [00:00<?, ?it/s]"
      ]
     },
     "metadata": {},
     "output_type": "display_data"
    },
    {
     "data": {
      "application/vnd.jupyter.widget-view+json": {
       "model_id": "0ffb6b6fa4d64f94a955fb782b51b74d",
       "version_major": 2,
       "version_minor": 0
      },
      "text/plain": [
       "Validation: |          | 0/? [00:00<?, ?it/s]"
      ]
     },
     "metadata": {},
     "output_type": "display_data"
    },
    {
     "data": {
      "application/vnd.jupyter.widget-view+json": {
       "model_id": "facc55a4c2ea4c90b7a63074275e2a65",
       "version_major": 2,
       "version_minor": 0
      },
      "text/plain": [
       "Validation: |          | 0/? [00:00<?, ?it/s]"
      ]
     },
     "metadata": {},
     "output_type": "display_data"
    },
    {
     "data": {
      "application/vnd.jupyter.widget-view+json": {
       "model_id": "620e0cef420e4cf39b6d10884c8f1670",
       "version_major": 2,
       "version_minor": 0
      },
      "text/plain": [
       "Validation: |          | 0/? [00:00<?, ?it/s]"
      ]
     },
     "metadata": {},
     "output_type": "display_data"
    },
    {
     "name": "stderr",
     "output_type": "stream",
     "text": [
      "GPU available: True (cuda), used: True\n",
      "TPU available: False, using: 0 TPU cores\n",
      "IPU available: False, using: 0 IPUs\n",
      "HPU available: False, using: 0 HPUs\n",
      "LOCAL_RANK: 0 - CUDA_VISIBLE_DEVICES: [0]\n"
     ]
    },
    {
     "data": {
      "application/vnd.jupyter.widget-view+json": {
       "model_id": "edb8e910c5384f2b94afbfd41d32c07f",
       "version_major": 2,
       "version_minor": 0
      },
      "text/plain": [
       "Predicting: |          | 0/? [00:00<?, ?it/s]"
      ]
     },
     "metadata": {},
     "output_type": "display_data"
    },
    {
     "data": {
      "application/vnd.jupyter.widget-view+json": {
       "model_id": "61bef1633f0e488899a5d3b9581f61ee",
       "version_major": 2,
       "version_minor": 0
      },
      "text/plain": [
       "  0%|          | 0/1 [00:00<?, ?it/s]"
      ]
     },
     "metadata": {},
     "output_type": "display_data"
    },
    {
     "name": "stderr",
     "output_type": "stream",
     "text": [
      "[I 2024-01-31 23:24:20,464] Trial 3 finished with value: 0.014047063887119293 and parameters: {'input_chunk_length': 36, 'batch_size': 256, 'n_rnn_layers': 4, 'hidden_dim': 40, 'dropout': 0.15, 'lr': 0.0001278323704965491}. Best is trial 3 with value: 0.014047063887119293.\n"
     ]
    },
    {
     "name": "stdout",
     "output_type": "stream",
     "text": [
      "Current value: 0.014047063887119293, Current params: {'input_chunk_length': 36, 'batch_size': 256, 'n_rnn_layers': 4, 'hidden_dim': 40, 'dropout': 0.15, 'lr': 0.0001278323704965491}\n",
      "Best value: 0.014047063887119293, Best params: {'input_chunk_length': 36, 'batch_size': 256, 'n_rnn_layers': 4, 'hidden_dim': 40, 'dropout': 0.15, 'lr': 0.0001278323704965491}\n"
     ]
    }
   ],
   "source": [
    "\n",
    "def print_callback(study, trial):\n",
    "    print(f\"Current value: {trial.value}, Current params: {trial.params}\")\n",
    "    print(f\"Best value: {study.best_value}, Best params: {study.best_trial.params}\")\n",
    "\n",
    "study = optuna.create_study(direction=\"minimize\")\n",
    "\n",
    "study.optimize(objective_block_rnn, timeout=120, callbacks=[print_callback])"
   ]
  },
  {
   "cell_type": "code",
   "execution_count": 1,
   "metadata": {},
   "outputs": [
    {
     "ename": "NameError",
     "evalue": "name 'optuna' is not defined",
     "output_type": "error",
     "traceback": [
      "\u001b[0;31m---------------------------------------------------------------------------\u001b[0m",
      "\u001b[0;31mNameError\u001b[0m                                 Traceback (most recent call last)",
      "Cell \u001b[0;32mIn[1], line 5\u001b[0m\n\u001b[1;32m      2\u001b[0m     \u001b[38;5;28mprint\u001b[39m(\u001b[38;5;124mf\u001b[39m\u001b[38;5;124m\"\u001b[39m\u001b[38;5;124mCurrent value: \u001b[39m\u001b[38;5;132;01m{\u001b[39;00mtrial\u001b[38;5;241m.\u001b[39mvalue\u001b[38;5;132;01m}\u001b[39;00m\u001b[38;5;124m, Current params: \u001b[39m\u001b[38;5;132;01m{\u001b[39;00mtrial\u001b[38;5;241m.\u001b[39mparams\u001b[38;5;132;01m}\u001b[39;00m\u001b[38;5;124m\"\u001b[39m)\n\u001b[1;32m      3\u001b[0m     \u001b[38;5;28mprint\u001b[39m(\u001b[38;5;124mf\u001b[39m\u001b[38;5;124m\"\u001b[39m\u001b[38;5;124mBest value: \u001b[39m\u001b[38;5;132;01m{\u001b[39;00mstudy\u001b[38;5;241m.\u001b[39mbest_value\u001b[38;5;132;01m}\u001b[39;00m\u001b[38;5;124m, Best params: \u001b[39m\u001b[38;5;132;01m{\u001b[39;00mstudy\u001b[38;5;241m.\u001b[39mbest_trial\u001b[38;5;241m.\u001b[39mparams\u001b[38;5;132;01m}\u001b[39;00m\u001b[38;5;124m\"\u001b[39m)\n\u001b[0;32m----> 5\u001b[0m study \u001b[38;5;241m=\u001b[39m \u001b[43moptuna\u001b[49m\u001b[38;5;241m.\u001b[39mcreate_study(direction\u001b[38;5;241m=\u001b[39m\u001b[38;5;124m\"\u001b[39m\u001b[38;5;124mminimize\u001b[39m\u001b[38;5;124m\"\u001b[39m)\n\u001b[1;32m      7\u001b[0m study\u001b[38;5;241m.\u001b[39moptimize(objective_rnn, timeout\u001b[38;5;241m=\u001b[39m\u001b[38;5;241m120\u001b[39m, callbacks\u001b[38;5;241m=\u001b[39m[print_callback])\n",
      "\u001b[0;31mNameError\u001b[0m: name 'optuna' is not defined"
     ]
    }
   ],
   "source": [
    "\n",
    "def print_callback(study, trial):\n",
    "    print(f\"Current value: {trial.value}, Current params: {trial.params}\")\n",
    "    print(f\"Best value: {study.best_value}, Best params: {study.best_trial.params}\")\n",
    "\n",
    "study = optuna.create_study(direction=\"minimize\")\n",
    "\n",
    "study.optimize(objective_rnn, n_trials=50, callbacks=[print_callback])"
   ]
  },
  {
   "cell_type": "code",
   "execution_count": null,
   "metadata": {},
   "outputs": [],
   "source": [
    "best_model = create_rnn_model(study.best_trial)\n",
    "best_model = train_model(best_model, val)\n",
    "logging(best_model, test)"
   ]
  },
  {
   "cell_type": "code",
   "execution_count": null,
   "metadata": {},
   "outputs": [],
   "source": [
    "\n",
    "def print_callback(study, trial):\n",
    "    print(f\"Current value: {trial.value}, Current params: {trial.params}\")\n",
    "    print(f\"Best value: {study.best_value}, Best params: {study.best_trial.params}\")\n",
    "\n",
    "study = optuna.create_study(direction=\"minimize\")\n",
    "\n",
    "study.optimize(objective_tcn, n_trials=100, callbacks=[print_callback])"
   ]
  },
  {
   "cell_type": "code",
   "execution_count": null,
   "metadata": {},
   "outputs": [],
   "source": [
    "best_model = create_tcn_model(study.best_trial)\n",
    "best_model = train_model(best_model, val)\n",
    "logging(best_model, test)"
   ]
  },
  {
   "cell_type": "code",
   "execution_count": null,
   "metadata": {},
   "outputs": [],
   "source": [
    "\n",
    "# def print_callback(study, trial):\n",
    "#     print(f\"Current value: {trial.value}, Current params: {trial.params}\")\n",
    "#     print(f\"Best value: {study.best_value}, Best params: {study.best_trial.params}\")\n",
    "\n",
    "# study = optuna.create_study(direction=\"minimize\")\n",
    "\n",
    "# study.optimize(objective_nbeats, timeout=1800, callbacks=[print_callback])"
   ]
  },
  {
   "cell_type": "code",
   "execution_count": null,
   "metadata": {},
   "outputs": [],
   "source": [
    "\n",
    "def print_callback(study, trial):\n",
    "    print(f\"Current value: {trial.value}, Current params: {trial.params}\")\n",
    "    print(f\"Best value: {study.best_value}, Best params: {study.best_trial.params}\")\n",
    "\n",
    "study = optuna.create_study(direction=\"minimize\")\n",
    "\n",
    "study.optimize(objective_transformer, n_trials=100, callbacks=[print_callback])"
   ]
  },
  {
   "cell_type": "code",
   "execution_count": null,
   "metadata": {},
   "outputs": [],
   "source": [
    "best_model = create_transformer_model(study.best_trial)\n",
    "best_model = train_model(best_model, val)\n",
    "logging(best_model, test)"
   ]
  },
  {
   "cell_type": "code",
   "execution_count": null,
   "metadata": {},
   "outputs": [],
   "source": []
  }
 ],
 "metadata": {
  "kernelspec": {
   "display_name": "Python 3 (ipykernel)",
   "language": "python",
   "name": "python3"
  },
  "language_info": {
   "codemirror_mode": {
    "name": "ipython",
    "version": 3
   },
   "file_extension": ".py",
   "mimetype": "text/x-python",
   "name": "python",
   "nbconvert_exporter": "python",
   "pygments_lexer": "ipython3",
   "version": "3.11.5"
  }
 },
 "nbformat": 4,
 "nbformat_minor": 4
}
