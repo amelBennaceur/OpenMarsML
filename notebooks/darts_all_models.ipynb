{
 "cells": [
  {
   "cell_type": "code",
   "execution_count": 1,
   "metadata": {},
   "outputs": [],
   "source": [
    "import pandas as pd\n",
    "import numpy as np\n",
    "import matplotlib.pyplot as plt\n",
    "from datetime import datetime\n",
    "from sklearn.preprocessing import MinMaxScaler\n",
    "from darts import TimeSeries\n",
    "from darts.models import TFTModel\n",
    "import torch\n",
    "freq='2H3T14S'"
   ]
  },
  {
   "cell_type": "code",
   "execution_count": 4,
   "metadata": {},
   "outputs": [],
   "source": [
    "def load_dataset(training_file, testing_file):\n",
    "    dataframes = []\n",
    "    for data_file in [training_file, testing_file]:\n",
    "        parser = lambda data_string: datetime.strptime(data_string, '%Y-%m-%d %H:%M:%S')\n",
    "#         dataframe = pd.read_csv(data_file)\n",
    "        dataframe = pd.read_csv(data_file, parse_dates=['Time'],\n",
    "                                date_parser=parser)\n",
    "        print(f\"Rows in {data_file}: {len(dataframe)}\")\n",
    "        dataframe.drop(['Ls', 'LT', 'CO2ice'], axis=1, inplace=True)\n",
    "#         dataframe.index.name = \"Time\"\n",
    "\n",
    "        # if data_file == training_file:\n",
    "        #     dataframe[TRAINING_FLAG_COLUMN] = True\n",
    "        # elif data_file == testing_file:\n",
    "        #     dataframe[TRAINING_FLAG_COLUMN] = False\n",
    "\n",
    "        dataframes.append(dataframe)\n",
    "\n",
    "    return pd.concat(dataframes, axis=0)\n",
    "\n",
    "\n",
    "def preprocess(dataframe):\n",
    "    # df_time_indexed = dataframe.set_index('Time')\n",
    "        time = pd.date_range(\"1998-07-15 21:23:39\", periods=len(dataframe), freq=freq)\n",
    "        dataframe.index = time\n",
    "        dataframe = dataframe.drop(['Time'], axis=1)\n",
    "        return dataframe\n",
    "\n",
    "def create_series(dataframe):\n",
    "        series = TimeSeries.from_dataframe(dataframe, time_col=None, value_cols=None, fill_missing_dates=True, freq='7394S', fillna_value=None)\n",
    "        return series\n",
    "\n",
    "def create_train_val_test_series(series):\n",
    "        train_series, temp = series.split_before(0.80)\n",
    "        val_series, test_series = series._split()\n"
   ]
  },
  {
   "cell_type": "code",
   "execution_count": 5,
   "metadata": {},
   "outputs": [
    {
     "name": "stderr",
     "output_type": "stream",
     "text": [
      "/tmp/ipykernel_4051/3281967515.py:6: FutureWarning: The argument 'date_parser' is deprecated and will be removed in a future version. Please use 'date_format' instead, or read your data in as 'object' dtype and then call 'to_datetime'.\n",
      "  dataframe = pd.read_csv(data_file, parse_dates=['Time'],\n"
     ]
    },
    {
     "name": "stdout",
     "output_type": "stream",
     "text": [
      "Rows in ../data/data_files/insight_openmars_training_time.csv: 72196\n"
     ]
    },
    {
     "name": "stderr",
     "output_type": "stream",
     "text": [
      "/tmp/ipykernel_4051/3281967515.py:6: FutureWarning: The argument 'date_parser' is deprecated and will be removed in a future version. Please use 'date_format' instead, or read your data in as 'object' dtype and then call 'to_datetime'.\n",
      "  dataframe = pd.read_csv(data_file, parse_dates=['Time'],\n"
     ]
    },
    {
     "name": "stdout",
     "output_type": "stream",
     "text": [
      "Rows in ../data/data_files/insight_openmars_test_time.csv: 16364\n"
     ]
    }
   ],
   "source": [
    "dataframe = load_dataset('../data/data_files/insight_openmars_training_time.csv',\n",
    "                         '../data/data_files/insight_openmars_test_time.csv')\n",
    "dataframe = preprocess(dataframe)"
   ]
  },
  {
   "cell_type": "code",
   "execution_count": null,
   "metadata": {},
   "outputs": [],
   "source": []
  }
 ],
 "metadata": {
  "kernelspec": {
   "display_name": "OpenMars",
   "language": "python",
   "name": "python3"
  },
  "language_info": {
   "codemirror_mode": {
    "name": "ipython",
    "version": 3
   },
   "file_extension": ".py",
   "mimetype": "text/x-python",
   "name": "python",
   "nbconvert_exporter": "python",
   "pygments_lexer": "ipython3",
   "version": "3.11.5"
  }
 },
 "nbformat": 4,
 "nbformat_minor": 2
}
