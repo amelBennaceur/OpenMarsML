{
 "cells": [
  {
   "cell_type": "markdown",
   "metadata": {},
   "source": [
    "# 1. Introduction\n",
    "\n",
    "## 1.2. About this dataset\n",
    "\n",
    "For each dataset, the fields are:\n",
    "* Time\n",
    "* Ls\n",
    "* LT\n",
    "* Tsurf: surface temperature (in Kelvin)\n",
    "* Psurf: surface pressure (in Pascals)\n",
    "* CO2ice: Surface carbon dioxide ice (in kg per metre squared)\n",
    "* cloud: water ice column (in opacity)\n",
    "* vapour: water vapour column (in kg per metre squared)\n",
    "* u_wind: Zonal wind (west-east) (metres per second)\n",
    "* v_wind: Meridional wind (north-south) (metres per second)\n",
    "* dust: dust column (in opacity)\n",
    "* temp: atmospheric temperature at a height of abour 2.5 km (in Kelvin)\n",
    "\n",
    "## 1.3. About this kernel\n",
    "The purpose of this notebook is to explore this dataset and apply basic deep learning techniques in order to predict pressure given a set of atmospheric variables.\n",
    "\n",
    "__Limitations__\n",
    "No optimisation for memory, runtime, or readability."
   ]
  },
  {
   "cell_type": "markdown",
   "source": [
    "# 2. Preprocessing the data"
   ],
   "metadata": {
    "collapsed": false
   }
  },
  {
   "cell_type": "markdown",
   "source": [
    "## 2.1. Defining Features and Labels\n",
    "Machine learning algorithms operate on _features_ to predict _labels_.\n",
    "\n",
    "* A __feature__ is an attribute of the system that affects the output.\n",
    "Features act as \"inputs\" to the model.\n",
    "Ideally, features are _independent_ variables.\n",
    "* A __label__ is the value being predicted.\n",
    "Labels act as \"outputs\" of the model.\n",
    "\n",
    "### 2.1.1. Features\n",
    "At every timestamp within each day, there are values for all other variables.\n",
    "No other variables impact the values of time or date.\n",
    "Therefore __date__ and __time of day__ are _independent_ variables.\n",
    "\n",
    "Temperature, pressure, and humidity do not directly affect one another significantly, but since they are all properties which describe the local atmosphere, they do not vary independently from one another.\n",
    "Similarly, all three of these variables have a stong relationship to time of day.\n",
    "\n",
    "CO2ice is always 0.\n",
    "\n",
    "Therefore we consider the following variables to be _features_ to the machine learning algorithm:\n",
    "* Tsurf: surface temperature (in Kelvin)\n",
    "* cloud: water ice column (in opacity)\n",
    "* vapour: water vapour column (in kg per metre squared)\n",
    "* u_wind: Zonal wind (west-east) (metres per second)\n",
    "* v_wind: Meridional wind (north-south) (metres per second)\n",
    "* dust: dust column (in opacity)\n",
    "* temp: atmospheric temperature at a height of abour 2.5 km (in Kelvin)\n",
    "\n",
    "Further exploration of the dataset may modify this list, but for now this is our best guess.\n",
    "\n",
    "### 2.1.2. Labels\n",
    "The goal is to model surface pressure (Psurf) based on the available features."
   ],
   "metadata": {
    "collapsed": false
   }
  },
  {
   "cell_type": "markdown",
   "source": [
    "## 2.2. Importing the Data"
   ],
   "metadata": {
    "collapsed": false
   }
  },
  {
   "cell_type": "code",
   "execution_count": null,
   "outputs": [],
   "source": [],
   "metadata": {
    "collapsed": false,
    "pycharm": {
     "name": "#%%\n"
    }
   }
  },
  {
   "cell_type": "code",
   "execution_count": 1,
   "metadata": {
    "collapsed": true
   },
   "outputs": [
    {
     "name": "stdout",
     "output_type": "stream",
     "text": [
      "                 Time    Psurf    Tsurf  cloud  vapour  u_wind  v_wind   dust  \\\n",
      "0 1998-07-15 21:23:39  721.113  264.042  0.092   0.027  -7.451   8.604  0.428   \n",
      "1 1998-07-15 23:26:53  705.090  274.736  0.145   0.026  -7.053   4.934  0.427   \n",
      "2 1998-07-16 01:30:07  700.691  265.939  0.105   0.026  -6.825  -0.063  0.427   \n",
      "3 1998-07-16 03:33:21  697.252  238.624  0.134   0.025  -5.373  -4.048  0.426   \n",
      "4 1998-07-16 05:36:35  717.146  213.634  0.139   0.026  -3.899  -3.133  0.426   \n",
      "\n",
      "      temp  \n",
      "0  179.686  \n",
      "1  174.502  \n",
      "2  173.429  \n",
      "3  173.556  \n",
      "4  174.789  \n",
      "<class 'pandas.core.frame.DataFrame'>\n",
      "RangeIndex: 72196 entries, 0 to 72195\n",
      "Data columns (total 9 columns):\n",
      " #   Column  Non-Null Count  Dtype         \n",
      "---  ------  --------------  -----         \n",
      " 0   Time    72196 non-null  datetime64[ns]\n",
      " 1   Psurf   72196 non-null  float64       \n",
      " 2   Tsurf   72196 non-null  float64       \n",
      " 3   cloud   72196 non-null  float64       \n",
      " 4   vapour  72196 non-null  float64       \n",
      " 5   u_wind  72196 non-null  float64       \n",
      " 6   v_wind  72196 non-null  float64       \n",
      " 7   dust    72196 non-null  float64       \n",
      " 8   temp    72196 non-null  float64       \n",
      "dtypes: datetime64[ns](1), float64(8)\n",
      "memory usage: 5.0 MB\n"
     ]
    }
   ],
   "source": [
    "import pandas as pd\n",
    "\n",
    "df= pd.read_csv('data/insight_openmars_training_time.csv')\n",
    "df.drop(['Ls','LT','CO2ice'],axis=1,inplace=True)\n",
    "target = df['Psurf']\n",
    "df.drop(labels=['Psurf'], axis=1,inplace = True)\n",
    "df.insert(1, 'Psurf', target)\n",
    "\n",
    "df['Time']= pd.to_datetime(df['Time'])\n",
    "\n",
    "print(df.head())\n",
    "\n",
    "df.describe()\n",
    "\n",
    "df.info()"
   ]
  },
  {
   "cell_type": "markdown",
   "metadata": {},
   "source": [
    "Exploring Data"
   ]
  },
  {
   "cell_type": "code",
   "execution_count": 2,
   "metadata": {
    "pycharm": {
     "name": "#%%\n"
    }
   },
   "outputs": [
    {
     "name": "stdout",
     "output_type": "stream",
     "text": [
      "<class 'pandas.core.frame.DataFrame'>\n",
      "RangeIndex: 72196 entries, 0 to 72195\n",
      "Data columns (total 9 columns):\n",
      " #   Column  Non-Null Count  Dtype         \n",
      "---  ------  --------------  -----         \n",
      " 0   Time    72196 non-null  datetime64[ns]\n",
      " 1   Psurf   72196 non-null  float64       \n",
      " 2   Tsurf   72196 non-null  float64       \n",
      " 3   cloud   72196 non-null  float64       \n",
      " 4   vapour  72196 non-null  float64       \n",
      " 5   u_wind  72196 non-null  float64       \n",
      " 6   v_wind  72196 non-null  float64       \n",
      " 7   dust    72196 non-null  float64       \n",
      " 8   temp    72196 non-null  float64       \n",
      "dtypes: datetime64[ns](1), float64(8)\n",
      "memory usage: 5.0 MB\n"
     ]
    },
    {
     "data": {
      "text/plain": "Text(0, 0.5, 'PSurf')"
     },
     "execution_count": 2,
     "metadata": {},
     "output_type": "execute_result"
    },
    {
     "data": {
      "text/plain": "<Figure size 1440x720 with 1 Axes>",
      "image/png": "[encoded data removed]"
     },
     "metadata": {
      "needs_background": "light"
     },
     "output_type": "display_data"
    }
   ],
   "source": [
    "df.groupby(pd.Grouper(key='Time',freq='W')).mean()\n",
    "\n",
    "df.info()\n",
    "\n",
    "\n",
    "# Convention for import of the pyplot interface\n",
    "import matplotlib.pyplot as plt\n",
    "\n",
    "# Set-up to have matplotlib use its support for notebook inline plots\n",
    "%matplotlib inline\n",
    "\n",
    "plt.rc('font', size=12)\n",
    "fig, ax = plt.subplots(figsize=(20, 10))\n",
    "\n",
    "# Specify how our lines should look\n",
    "ax.plot(df.Time, df.Psurf, color='tab:blue', label='Psurf')\n",
    "\n",
    "# Same as above\n",
    "ax.set_xlabel('Time')\n",
    "ax.set_ylabel('PSurf')"
   ]
  },
  {
   "cell_type": "markdown",
   "metadata": {},
   "source": [
    "Load Test Data"
   ]
  },
  {
   "cell_type": "code",
   "execution_count": 3,
   "metadata": {
    "pycharm": {
     "name": "#%%\n"
    }
   },
   "outputs": [],
   "source": [
    "import numpy as np\n",
    "df_test= pd.read_csv('data/insight_openmars_test_time.csv')\n",
    "df_test.drop(['Ls','LT','CO2ice'],axis=1,inplace=True)\n",
    "target = df_test['Psurf']\n",
    "df_test.drop(labels=['Psurf'], axis=1,inplace = True)\n",
    "df_test.insert(1, 'Psurf', target)\n",
    "df_test.insert(2, 'Psurf_predict',df_test.Psurf+np.random.randint(-5, 5, 16364),)\n",
    "\n",
    "df_test['Time']= pd.to_datetime(df_test['Time'])\n",
    "\n"
   ]
  },
  {
   "cell_type": "markdown",
   "metadata": {},
   "source": [
    "Learning"
   ]
  },
  {
   "cell_type": "code",
   "execution_count": 4,
   "metadata": {
    "pycharm": {
     "name": "#%%\n"
    }
   },
   "outputs": [
    {
     "name": "stderr",
     "output_type": "stream",
     "text": [
      "2022-02-08 12:23:16.181591: I tensorflow/core/platform/cpu_feature_guard.cc:151] This TensorFlow binary is optimized with oneAPI Deep Neural Network Library (oneDNN) to use the following CPU instructions in performance-critical operations:  AVX2 FMA\n",
      "To enable them in other operations, rebuild TensorFlow with the appropriate compiler flags.\n"
     ]
    },
    {
     "ename": "KeyError",
     "evalue": "30",
     "output_type": "error",
     "traceback": [
      "\u001B[0;31m---------------------------------------------------------------------------\u001B[0m",
      "\u001B[0;31mKeyError\u001B[0m                                  Traceback (most recent call last)",
      "\u001B[0;32m~/.conda/envs/OpenMarsML/lib/python3.9/site-packages/pandas/core/indexes/base.py\u001B[0m in \u001B[0;36mget_loc\u001B[0;34m(self, key, method, tolerance)\u001B[0m\n\u001B[1;32m   3360\u001B[0m             \u001B[0;32mtry\u001B[0m\u001B[0;34m:\u001B[0m\u001B[0;34m\u001B[0m\u001B[0;34m\u001B[0m\u001B[0m\n\u001B[0;32m-> 3361\u001B[0;31m                 \u001B[0;32mreturn\u001B[0m \u001B[0mself\u001B[0m\u001B[0;34m.\u001B[0m\u001B[0m_engine\u001B[0m\u001B[0;34m.\u001B[0m\u001B[0mget_loc\u001B[0m\u001B[0;34m(\u001B[0m\u001B[0mcasted_key\u001B[0m\u001B[0;34m)\u001B[0m\u001B[0;34m\u001B[0m\u001B[0;34m\u001B[0m\u001B[0m\n\u001B[0m\u001B[1;32m   3362\u001B[0m             \u001B[0;32mexcept\u001B[0m \u001B[0mKeyError\u001B[0m \u001B[0;32mas\u001B[0m \u001B[0merr\u001B[0m\u001B[0;34m:\u001B[0m\u001B[0;34m\u001B[0m\u001B[0;34m\u001B[0m\u001B[0m\n",
      "\u001B[0;32m~/.conda/envs/OpenMarsML/lib/python3.9/site-packages/pandas/_libs/index.pyx\u001B[0m in \u001B[0;36mpandas._libs.index.IndexEngine.get_loc\u001B[0;34m()\u001B[0m\n",
      "\u001B[0;32m~/.conda/envs/OpenMarsML/lib/python3.9/site-packages/pandas/_libs/index.pyx\u001B[0m in \u001B[0;36mpandas._libs.index.IndexEngine.get_loc\u001B[0;34m()\u001B[0m\n",
      "\u001B[0;32mpandas/_libs/hashtable_class_helper.pxi\u001B[0m in \u001B[0;36mpandas._libs.hashtable.PyObjectHashTable.get_item\u001B[0;34m()\u001B[0m\n",
      "\u001B[0;32mpandas/_libs/hashtable_class_helper.pxi\u001B[0m in \u001B[0;36mpandas._libs.hashtable.PyObjectHashTable.get_item\u001B[0;34m()\u001B[0m\n",
      "\u001B[0;31mKeyError\u001B[0m: 30",
      "\nThe above exception was the direct cause of the following exception:\n",
      "\u001B[0;31mKeyError\u001B[0m                                  Traceback (most recent call last)",
      "\u001B[0;32m/var/folders/rd/h3gs3wk95j7gwjjplt1r79kc0000gq/T/ipykernel_16350/3956530349.py\u001B[0m in \u001B[0;36m<module>\u001B[0;34m\u001B[0m\n\u001B[1;32m     77\u001B[0m \u001B[0;32mfor\u001B[0m \u001B[0mi\u001B[0m \u001B[0;32min\u001B[0m \u001B[0mrange\u001B[0m\u001B[0;34m(\u001B[0m\u001B[0mlen\u001B[0m\u001B[0;34m(\u001B[0m\u001B[0mdf\u001B[0m\u001B[0;34m)\u001B[0m\u001B[0;34m-\u001B[0m\u001B[0msteps\u001B[0m\u001B[0;34m)\u001B[0m\u001B[0;34m:\u001B[0m\u001B[0;34m\u001B[0m\u001B[0;34m\u001B[0m\u001B[0m\n\u001B[1;32m     78\u001B[0m     \u001B[0minp1\u001B[0m\u001B[0;34m.\u001B[0m\u001B[0mappend\u001B[0m\u001B[0;34m(\u001B[0m\u001B[0mdf\u001B[0m\u001B[0;34m[\u001B[0m\u001B[0mi\u001B[0m\u001B[0;34m:\u001B[0m\u001B[0mi\u001B[0m\u001B[0;34m+\u001B[0m\u001B[0msteps\u001B[0m\u001B[0;34m]\u001B[0m\u001B[0;34m)\u001B[0m\u001B[0;34m\u001B[0m\u001B[0;34m\u001B[0m\u001B[0m\n\u001B[0;32m---> 79\u001B[0;31m     \u001B[0mout1\u001B[0m\u001B[0;34m.\u001B[0m\u001B[0mappend\u001B[0m\u001B[0;34m(\u001B[0m\u001B[0mdf\u001B[0m\u001B[0;34m[\u001B[0m\u001B[0mi\u001B[0m\u001B[0;34m+\u001B[0m\u001B[0msteps\u001B[0m\u001B[0;34m]\u001B[0m\u001B[0;34m)\u001B[0m\u001B[0;34m\u001B[0m\u001B[0;34m\u001B[0m\u001B[0m\n\u001B[0m\u001B[1;32m     80\u001B[0m \u001B[0;34m\u001B[0m\u001B[0m\n\u001B[1;32m     81\u001B[0m \u001B[0minp1\u001B[0m\u001B[0;34m=\u001B[0m\u001B[0mnp\u001B[0m\u001B[0;34m.\u001B[0m\u001B[0masanyarray\u001B[0m\u001B[0;34m(\u001B[0m\u001B[0minp1\u001B[0m\u001B[0;34m)\u001B[0m\u001B[0;34m\u001B[0m\u001B[0;34m\u001B[0m\u001B[0m\n",
      "\u001B[0;32m~/.conda/envs/OpenMarsML/lib/python3.9/site-packages/pandas/core/frame.py\u001B[0m in \u001B[0;36m__getitem__\u001B[0;34m(self, key)\u001B[0m\n\u001B[1;32m   3453\u001B[0m             \u001B[0;32mif\u001B[0m \u001B[0mself\u001B[0m\u001B[0;34m.\u001B[0m\u001B[0mcolumns\u001B[0m\u001B[0;34m.\u001B[0m\u001B[0mnlevels\u001B[0m \u001B[0;34m>\u001B[0m \u001B[0;36m1\u001B[0m\u001B[0;34m:\u001B[0m\u001B[0;34m\u001B[0m\u001B[0;34m\u001B[0m\u001B[0m\n\u001B[1;32m   3454\u001B[0m                 \u001B[0;32mreturn\u001B[0m \u001B[0mself\u001B[0m\u001B[0;34m.\u001B[0m\u001B[0m_getitem_multilevel\u001B[0m\u001B[0;34m(\u001B[0m\u001B[0mkey\u001B[0m\u001B[0;34m)\u001B[0m\u001B[0;34m\u001B[0m\u001B[0;34m\u001B[0m\u001B[0m\n\u001B[0;32m-> 3455\u001B[0;31m             \u001B[0mindexer\u001B[0m \u001B[0;34m=\u001B[0m \u001B[0mself\u001B[0m\u001B[0;34m.\u001B[0m\u001B[0mcolumns\u001B[0m\u001B[0;34m.\u001B[0m\u001B[0mget_loc\u001B[0m\u001B[0;34m(\u001B[0m\u001B[0mkey\u001B[0m\u001B[0;34m)\u001B[0m\u001B[0;34m\u001B[0m\u001B[0;34m\u001B[0m\u001B[0m\n\u001B[0m\u001B[1;32m   3456\u001B[0m             \u001B[0;32mif\u001B[0m \u001B[0mis_integer\u001B[0m\u001B[0;34m(\u001B[0m\u001B[0mindexer\u001B[0m\u001B[0;34m)\u001B[0m\u001B[0;34m:\u001B[0m\u001B[0;34m\u001B[0m\u001B[0;34m\u001B[0m\u001B[0m\n\u001B[1;32m   3457\u001B[0m                 \u001B[0mindexer\u001B[0m \u001B[0;34m=\u001B[0m \u001B[0;34m[\u001B[0m\u001B[0mindexer\u001B[0m\u001B[0;34m]\u001B[0m\u001B[0;34m\u001B[0m\u001B[0;34m\u001B[0m\u001B[0m\n",
      "\u001B[0;32m~/.conda/envs/OpenMarsML/lib/python3.9/site-packages/pandas/core/indexes/base.py\u001B[0m in \u001B[0;36mget_loc\u001B[0;34m(self, key, method, tolerance)\u001B[0m\n\u001B[1;32m   3361\u001B[0m                 \u001B[0;32mreturn\u001B[0m \u001B[0mself\u001B[0m\u001B[0;34m.\u001B[0m\u001B[0m_engine\u001B[0m\u001B[0;34m.\u001B[0m\u001B[0mget_loc\u001B[0m\u001B[0;34m(\u001B[0m\u001B[0mcasted_key\u001B[0m\u001B[0;34m)\u001B[0m\u001B[0;34m\u001B[0m\u001B[0;34m\u001B[0m\u001B[0m\n\u001B[1;32m   3362\u001B[0m             \u001B[0;32mexcept\u001B[0m \u001B[0mKeyError\u001B[0m \u001B[0;32mas\u001B[0m \u001B[0merr\u001B[0m\u001B[0;34m:\u001B[0m\u001B[0;34m\u001B[0m\u001B[0;34m\u001B[0m\u001B[0m\n\u001B[0;32m-> 3363\u001B[0;31m                 \u001B[0;32mraise\u001B[0m \u001B[0mKeyError\u001B[0m\u001B[0;34m(\u001B[0m\u001B[0mkey\u001B[0m\u001B[0;34m)\u001B[0m \u001B[0;32mfrom\u001B[0m \u001B[0merr\u001B[0m\u001B[0;34m\u001B[0m\u001B[0;34m\u001B[0m\u001B[0m\n\u001B[0m\u001B[1;32m   3364\u001B[0m \u001B[0;34m\u001B[0m\u001B[0m\n\u001B[1;32m   3365\u001B[0m         \u001B[0;32mif\u001B[0m \u001B[0mis_scalar\u001B[0m\u001B[0;34m(\u001B[0m\u001B[0mkey\u001B[0m\u001B[0;34m)\u001B[0m \u001B[0;32mand\u001B[0m \u001B[0misna\u001B[0m\u001B[0;34m(\u001B[0m\u001B[0mkey\u001B[0m\u001B[0;34m)\u001B[0m \u001B[0;32mand\u001B[0m \u001B[0;32mnot\u001B[0m \u001B[0mself\u001B[0m\u001B[0;34m.\u001B[0m\u001B[0mhasnans\u001B[0m\u001B[0;34m:\u001B[0m\u001B[0;34m\u001B[0m\u001B[0;34m\u001B[0m\u001B[0m\n",
      "\u001B[0;31mKeyError\u001B[0m: 30"
     ]
    }
   ],
   "source": [
    "import tensorflow as tf\n",
    "import numpy as np\n",
    "from sklearn.preprocessing import MinMaxScaler\n",
    "\n",
    "\n",
    "%matplotlib inline\n",
    "\n",
    "plt.rc('font', size=12)\n",
    "\n",
    "# Specify how our lines should look\n",
    "ax.plot(df_test.Time, df_test.Psurf, color='tab:blue', label='Psurf')\n",
    "ax.plot(df_test.Time, df_test.Psurf_predict, color='tab:orange', label='Psurf_predict')\n",
    "\n",
    "# Same as above\n",
    "ax.set_xlabel('Time')\n",
    "ax.set_ylabel('PSurf')\n",
    "\n",
    "\n",
    "scalers={}\n",
    "for i in df.columns:\n",
    "    scaler = MinMaxScaler(feature_range=(-1,1))\n",
    "    s_s = scaler.fit_transform(df[i].values.reshape(-1,1))\n",
    "    s_s=np.reshape(s_s,len(s_s))\n",
    "    scalers['scaler_'+ i] = scaler\n",
    "    df[i]=s_s\n",
    "for i in df.columns:\n",
    "    scaler = scalers['scaler_'+i]\n",
    "    s_s = scaler.transform(df_test[i].values.reshape(-1,1))\n",
    "    s_s=np.reshape(s_s,len(s_s))\n",
    "    scalers['scaler_'+i] = scaler\n",
    "    df_test[i]=s_s\n",
    "\n",
    "\n",
    "\n",
    "# early_stop=EarlyStopping(monitor='loss',patience=5)\n",
    "\n",
    "# model=Sequential([Conv1D(100,kernel_size=3,input_shape=(30,1),activation='relu'),\n",
    "#                   Conv1D(100,kernel_size=3),\n",
    "#                   Conv1D(100,kernel_size=3),\n",
    "#                   MaxPooling1D(2),\n",
    "#                  Flatten(),\n",
    "#                   RepeatVector(30),\n",
    "#                  LSTM(128,activation='relu',return_sequences=True),\n",
    "#                  LSTM(128,activation='relu',return_sequences=True),\n",
    "#                   Bidirectional(LSTM(64,activation='relu')),\n",
    "#                  Dense(128,activation='relu'),\n",
    "#                  Dense(1)])\n",
    "\n",
    "model = tf.keras.models.Sequential([\n",
    "  tf.keras.layers.Conv1D(filters=32, kernel_size=5,\n",
    "                      strides=1, padding=\"causal\",\n",
    "                      activation=\"relu\",\n",
    "                      input_shape=[None, 1]),\n",
    "  #tf.keras.layers.LSTM(64, return_sequences=True),\n",
    "  #tf.keras.layers.LSTM(64, return_sequences=True),\n",
    "  tf.keras.layers.Bidirectional(tf.keras.layers.LSTM(200, activation='relu', return_sequences=True)),\n",
    "  tf.keras.layers.Dropout(0.15),\n",
    "  tf.keras.layers.Bidirectional(tf.keras.layers.LSTM(100, activation='relu', return_sequences=True)),\n",
    "  tf.keras.layers.Dropout(0.15),\n",
    "\n",
    "  tf.keras.layers.Dense(30, activation=\"relu\"),\n",
    "  tf.keras.layers.Dense(10, activation=\"relu\"),\n",
    "  tf.keras.layers.Dense(1),\n",
    "  tf.keras.layers.Lambda(lambda x: x * 400)\n",
    "])\n",
    "\n",
    "\n",
    "# model.compile(optimizer='adam',loss='mse',metrics=['accuracy'])\n",
    "model.compile(loss=tf.keras.losses.Huber(),\n",
    "              optimizer='adam',\n",
    "              metrics=[\"mae\"])\n",
    "\n",
    "steps=30\n",
    "inp1=[]\n",
    "out1=[]\n",
    "\n",
    "for i in range(len(df)-steps):\n",
    "    inp1.append(df[i:i+steps])\n",
    "    out1.append(df[i+steps])\n",
    "\n",
    "inp1=np.asanyarray(inp1)\n",
    "out1=np.asanyarray(out1)\n",
    "x_train1=inp1[:500,:,:]\n",
    "x_test1=inp1[500:,:,:]\n",
    "y_train1=out1[:500]\n",
    "y_test1=out1[500:]\n",
    "\n",
    "model.fit(x_train1,y_train1,epochs=20)\n",
    "\n",
    "# lr_schedule = tf.keras.callbacks.LearningRateScheduler(\n",
    "#     lambda epoch: 1e-8 * 10**(epoch / 20))\n",
    "# #optimizer = tf.keras.optimizers.SGD(lr=1e-8, momentum=0.9)\n",
    "# optimizer = tf.keras.optimizers.Adam()\n",
    "#\n",
    "# model.compile(loss=tf.keras.losses.Huber(),\n",
    "#               optimizer=optimizer,\n",
    "#               metrics=[\"mae\"])\n",
    "# history = model.fit(df, epochs=155, callbacks=[lr_schedule])\n"
   ]
  },
  {
   "cell_type": "markdown",
   "metadata": {},
   "source": []
  }
 ],
 "metadata": {
  "kernelspec": {
   "name": "python3",
   "language": "python",
   "display_name": "Python 3 (ipykernel)"
  },
  "language_info": {
   "codemirror_mode": {
    "name": "ipython",
    "version": 3
   },
   "file_extension": ".py",
   "mimetype": "text/x-python",
   "name": "python",
   "nbconvert_exporter": "python",
   "pygments_lexer": "ipython3",
   "version": "3.9.6"
  }
 },
 "nbformat": 4,
 "nbformat_minor": 1
}